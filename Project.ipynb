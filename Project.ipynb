{
 "cells": [
  {
   "cell_type": "code",
   "execution_count": 101,
   "id": "a0a760a4",
   "metadata": {},
   "outputs": [],
   "source": [
    "import pandas as pd\n",
    "import numpy as np\n",
    "import seaborn as sns\n",
    "import plotly.express as px\n",
    "import warnings\n",
    "warnings.filterwarnings('ignore')\n",
    "from category_encoders import BinaryEncoder\n",
    "from sklearn.preprocessing import StandardScaler, RobustScaler, OneHotEncoder\n",
    "from sklearn.model_selection import cross_validate, GridSearchCV\n",
    "from sklearn.linear_model import LinearRegression\n",
    "from sklearn.neighbors import KNeighborsRegressor\n",
    "from sklearn.svm import SVR\n",
    "from sklearn.tree import DecisionTreeRegressor\n",
    "from sklearn.ensemble import RandomForestRegressor, AdaBoostRegressor, BaggingRegressor\n",
    "from sklearn.pipeline import Pipeline\n",
    "from sklearn.metrics import r2_score\n",
    "from sklearn.compose import ColumnTransformer\n",
    "from xgboost import XGBRegressor\n",
    "import joblib"
   ]
  },
  {
   "cell_type": "code",
   "execution_count": 2,
   "id": "cc9a2a21",
   "metadata": {},
   "outputs": [],
   "source": [
    "df = pd.read_excel('Data_Train.xlsx')"
   ]
  },
  {
   "cell_type": "code",
   "execution_count": 3,
   "id": "9bc5d74d",
   "metadata": {},
   "outputs": [
    {
     "data": {
      "text/html": [
       "<div>\n",
       "<style scoped>\n",
       "    .dataframe tbody tr th:only-of-type {\n",
       "        vertical-align: middle;\n",
       "    }\n",
       "\n",
       "    .dataframe tbody tr th {\n",
       "        vertical-align: top;\n",
       "    }\n",
       "\n",
       "    .dataframe thead th {\n",
       "        text-align: right;\n",
       "    }\n",
       "</style>\n",
       "<table border=\"1\" class=\"dataframe\">\n",
       "  <thead>\n",
       "    <tr style=\"text-align: right;\">\n",
       "      <th></th>\n",
       "      <th>Airline</th>\n",
       "      <th>Date_of_Journey</th>\n",
       "      <th>Source</th>\n",
       "      <th>Destination</th>\n",
       "      <th>Route</th>\n",
       "      <th>Dep_Time</th>\n",
       "      <th>Arrival_Time</th>\n",
       "      <th>Duration</th>\n",
       "      <th>Total_Stops</th>\n",
       "      <th>Additional_Info</th>\n",
       "      <th>Price</th>\n",
       "    </tr>\n",
       "  </thead>\n",
       "  <tbody>\n",
       "    <tr>\n",
       "      <th>0</th>\n",
       "      <td>IndiGo</td>\n",
       "      <td>24/03/2019</td>\n",
       "      <td>Banglore</td>\n",
       "      <td>New Delhi</td>\n",
       "      <td>BLR → DEL</td>\n",
       "      <td>22:20</td>\n",
       "      <td>01:10 22 Mar</td>\n",
       "      <td>2h 50m</td>\n",
       "      <td>non-stop</td>\n",
       "      <td>No info</td>\n",
       "      <td>3897</td>\n",
       "    </tr>\n",
       "    <tr>\n",
       "      <th>1</th>\n",
       "      <td>Air India</td>\n",
       "      <td>1/05/2019</td>\n",
       "      <td>Kolkata</td>\n",
       "      <td>Banglore</td>\n",
       "      <td>CCU → IXR → BBI → BLR</td>\n",
       "      <td>05:50</td>\n",
       "      <td>13:15</td>\n",
       "      <td>7h 25m</td>\n",
       "      <td>2 stops</td>\n",
       "      <td>No info</td>\n",
       "      <td>7662</td>\n",
       "    </tr>\n",
       "    <tr>\n",
       "      <th>2</th>\n",
       "      <td>Jet Airways</td>\n",
       "      <td>9/06/2019</td>\n",
       "      <td>Delhi</td>\n",
       "      <td>Cochin</td>\n",
       "      <td>DEL → LKO → BOM → COK</td>\n",
       "      <td>09:25</td>\n",
       "      <td>04:25 10 Jun</td>\n",
       "      <td>19h</td>\n",
       "      <td>2 stops</td>\n",
       "      <td>No info</td>\n",
       "      <td>13882</td>\n",
       "    </tr>\n",
       "    <tr>\n",
       "      <th>3</th>\n",
       "      <td>IndiGo</td>\n",
       "      <td>12/05/2019</td>\n",
       "      <td>Kolkata</td>\n",
       "      <td>Banglore</td>\n",
       "      <td>CCU → NAG → BLR</td>\n",
       "      <td>18:05</td>\n",
       "      <td>23:30</td>\n",
       "      <td>5h 25m</td>\n",
       "      <td>1 stop</td>\n",
       "      <td>No info</td>\n",
       "      <td>6218</td>\n",
       "    </tr>\n",
       "    <tr>\n",
       "      <th>4</th>\n",
       "      <td>IndiGo</td>\n",
       "      <td>01/03/2019</td>\n",
       "      <td>Banglore</td>\n",
       "      <td>New Delhi</td>\n",
       "      <td>BLR → NAG → DEL</td>\n",
       "      <td>16:50</td>\n",
       "      <td>21:35</td>\n",
       "      <td>4h 45m</td>\n",
       "      <td>1 stop</td>\n",
       "      <td>No info</td>\n",
       "      <td>13302</td>\n",
       "    </tr>\n",
       "    <tr>\n",
       "      <th>...</th>\n",
       "      <td>...</td>\n",
       "      <td>...</td>\n",
       "      <td>...</td>\n",
       "      <td>...</td>\n",
       "      <td>...</td>\n",
       "      <td>...</td>\n",
       "      <td>...</td>\n",
       "      <td>...</td>\n",
       "      <td>...</td>\n",
       "      <td>...</td>\n",
       "      <td>...</td>\n",
       "    </tr>\n",
       "    <tr>\n",
       "      <th>10678</th>\n",
       "      <td>Air Asia</td>\n",
       "      <td>9/04/2019</td>\n",
       "      <td>Kolkata</td>\n",
       "      <td>Banglore</td>\n",
       "      <td>CCU → BLR</td>\n",
       "      <td>19:55</td>\n",
       "      <td>22:25</td>\n",
       "      <td>2h 30m</td>\n",
       "      <td>non-stop</td>\n",
       "      <td>No info</td>\n",
       "      <td>4107</td>\n",
       "    </tr>\n",
       "    <tr>\n",
       "      <th>10679</th>\n",
       "      <td>Air India</td>\n",
       "      <td>27/04/2019</td>\n",
       "      <td>Kolkata</td>\n",
       "      <td>Banglore</td>\n",
       "      <td>CCU → BLR</td>\n",
       "      <td>20:45</td>\n",
       "      <td>23:20</td>\n",
       "      <td>2h 35m</td>\n",
       "      <td>non-stop</td>\n",
       "      <td>No info</td>\n",
       "      <td>4145</td>\n",
       "    </tr>\n",
       "    <tr>\n",
       "      <th>10680</th>\n",
       "      <td>Jet Airways</td>\n",
       "      <td>27/04/2019</td>\n",
       "      <td>Banglore</td>\n",
       "      <td>Delhi</td>\n",
       "      <td>BLR → DEL</td>\n",
       "      <td>08:20</td>\n",
       "      <td>11:20</td>\n",
       "      <td>3h</td>\n",
       "      <td>non-stop</td>\n",
       "      <td>No info</td>\n",
       "      <td>7229</td>\n",
       "    </tr>\n",
       "    <tr>\n",
       "      <th>10681</th>\n",
       "      <td>Vistara</td>\n",
       "      <td>01/03/2019</td>\n",
       "      <td>Banglore</td>\n",
       "      <td>New Delhi</td>\n",
       "      <td>BLR → DEL</td>\n",
       "      <td>11:30</td>\n",
       "      <td>14:10</td>\n",
       "      <td>2h 40m</td>\n",
       "      <td>non-stop</td>\n",
       "      <td>No info</td>\n",
       "      <td>12648</td>\n",
       "    </tr>\n",
       "    <tr>\n",
       "      <th>10682</th>\n",
       "      <td>Air India</td>\n",
       "      <td>9/05/2019</td>\n",
       "      <td>Delhi</td>\n",
       "      <td>Cochin</td>\n",
       "      <td>DEL → GOI → BOM → COK</td>\n",
       "      <td>10:55</td>\n",
       "      <td>19:15</td>\n",
       "      <td>8h 20m</td>\n",
       "      <td>2 stops</td>\n",
       "      <td>No info</td>\n",
       "      <td>11753</td>\n",
       "    </tr>\n",
       "  </tbody>\n",
       "</table>\n",
       "<p>10683 rows × 11 columns</p>\n",
       "</div>"
      ],
      "text/plain": [
       "           Airline Date_of_Journey    Source Destination  \\\n",
       "0           IndiGo      24/03/2019  Banglore   New Delhi   \n",
       "1        Air India       1/05/2019   Kolkata    Banglore   \n",
       "2      Jet Airways       9/06/2019     Delhi      Cochin   \n",
       "3           IndiGo      12/05/2019   Kolkata    Banglore   \n",
       "4           IndiGo      01/03/2019  Banglore   New Delhi   \n",
       "...            ...             ...       ...         ...   \n",
       "10678     Air Asia       9/04/2019   Kolkata    Banglore   \n",
       "10679    Air India      27/04/2019   Kolkata    Banglore   \n",
       "10680  Jet Airways      27/04/2019  Banglore       Delhi   \n",
       "10681      Vistara      01/03/2019  Banglore   New Delhi   \n",
       "10682    Air India       9/05/2019     Delhi      Cochin   \n",
       "\n",
       "                       Route Dep_Time  Arrival_Time Duration Total_Stops  \\\n",
       "0                  BLR → DEL    22:20  01:10 22 Mar   2h 50m    non-stop   \n",
       "1      CCU → IXR → BBI → BLR    05:50         13:15   7h 25m     2 stops   \n",
       "2      DEL → LKO → BOM → COK    09:25  04:25 10 Jun      19h     2 stops   \n",
       "3            CCU → NAG → BLR    18:05         23:30   5h 25m      1 stop   \n",
       "4            BLR → NAG → DEL    16:50         21:35   4h 45m      1 stop   \n",
       "...                      ...      ...           ...      ...         ...   \n",
       "10678              CCU → BLR    19:55         22:25   2h 30m    non-stop   \n",
       "10679              CCU → BLR    20:45         23:20   2h 35m    non-stop   \n",
       "10680              BLR → DEL    08:20         11:20       3h    non-stop   \n",
       "10681              BLR → DEL    11:30         14:10   2h 40m    non-stop   \n",
       "10682  DEL → GOI → BOM → COK    10:55         19:15   8h 20m     2 stops   \n",
       "\n",
       "      Additional_Info  Price  \n",
       "0             No info   3897  \n",
       "1             No info   7662  \n",
       "2             No info  13882  \n",
       "3             No info   6218  \n",
       "4             No info  13302  \n",
       "...               ...    ...  \n",
       "10678         No info   4107  \n",
       "10679         No info   4145  \n",
       "10680         No info   7229  \n",
       "10681         No info  12648  \n",
       "10682         No info  11753  \n",
       "\n",
       "[10683 rows x 11 columns]"
      ]
     },
     "execution_count": 3,
     "metadata": {},
     "output_type": "execute_result"
    }
   ],
   "source": [
    "df"
   ]
  },
  {
   "cell_type": "code",
   "execution_count": 4,
   "id": "1bd7c288",
   "metadata": {},
   "outputs": [
    {
     "data": {
      "text/plain": [
       "220"
      ]
     },
     "execution_count": 4,
     "metadata": {},
     "output_type": "execute_result"
    }
   ],
   "source": [
    "# Count the number of duplicated rows in theDataFrame.\n",
    "df.duplicated().sum()"
   ]
  },
  {
   "cell_type": "code",
   "execution_count": 5,
   "id": "bb9e1f1c",
   "metadata": {},
   "outputs": [],
   "source": [
    "# Remove duplicated rows from the DataFrame.\n",
    "df.drop_duplicates(inplace=True)\n",
    "\n",
    "# Reset the index of the DataFrame after removing duplicates and modify it in-place.\n",
    "df.reset_index(drop=True, inplace=True)"
   ]
  },
  {
   "cell_type": "code",
   "execution_count": 6,
   "id": "d68dae34",
   "metadata": {},
   "outputs": [
    {
     "data": {
      "text/plain": [
       "Airline            0\n",
       "Date_of_Journey    0\n",
       "Source             0\n",
       "Destination        0\n",
       "Route              1\n",
       "Dep_Time           0\n",
       "Arrival_Time       0\n",
       "Duration           0\n",
       "Total_Stops        1\n",
       "Additional_Info    0\n",
       "Price              0\n",
       "dtype: int64"
      ]
     },
     "execution_count": 6,
     "metadata": {},
     "output_type": "execute_result"
    }
   ],
   "source": [
    "# Calculate the number of missing values in each column of the Pandas DataFrame 'df'.\n",
    "df.isnull().sum()"
   ]
  },
  {
   "cell_type": "code",
   "execution_count": 7,
   "id": "c2b30c87",
   "metadata": {},
   "outputs": [],
   "source": [
    "# Remove Missing rows from the DataFrame.\n",
    "df.dropna(inplace=True)\n",
    "\n",
    "# Reset the index of the DataFrame after removing duplicates and modify it in-place.\n",
    "df.reset_index(drop=True, inplace=True)"
   ]
  },
  {
   "cell_type": "code",
   "execution_count": 8,
   "id": "53371cfe",
   "metadata": {},
   "outputs": [
    {
     "name": "stdout",
     "output_type": "stream",
     "text": [
      "<class 'pandas.core.frame.DataFrame'>\n",
      "RangeIndex: 10462 entries, 0 to 10461\n",
      "Data columns (total 11 columns):\n",
      " #   Column           Non-Null Count  Dtype \n",
      "---  ------           --------------  ----- \n",
      " 0   Airline          10462 non-null  object\n",
      " 1   Date_of_Journey  10462 non-null  object\n",
      " 2   Source           10462 non-null  object\n",
      " 3   Destination      10462 non-null  object\n",
      " 4   Route            10462 non-null  object\n",
      " 5   Dep_Time         10462 non-null  object\n",
      " 6   Arrival_Time     10462 non-null  object\n",
      " 7   Duration         10462 non-null  object\n",
      " 8   Total_Stops      10462 non-null  object\n",
      " 9   Additional_Info  10462 non-null  object\n",
      " 10  Price            10462 non-null  int64 \n",
      "dtypes: int64(1), object(10)\n",
      "memory usage: 899.2+ KB\n"
     ]
    }
   ],
   "source": [
    "# Display information about the DataFrame, including data types, non-null counts, and memory usage.\n",
    "df.info()"
   ]
  },
  {
   "cell_type": "code",
   "execution_count": null,
   "id": "bb09ec29",
   "metadata": {},
   "outputs": [],
   "source": []
  },
  {
   "cell_type": "code",
   "execution_count": 10,
   "id": "7b4beaad",
   "metadata": {},
   "outputs": [
    {
     "data": {
      "text/plain": [
       "Airline\n",
       "Jet Airways                          3700\n",
       "IndiGo                               2043\n",
       "Air India                            1694\n",
       "Multiple carriers                    1196\n",
       "SpiceJet                              815\n",
       "Vistara                               478\n",
       "Air Asia                              319\n",
       "GoAir                                 194\n",
       "Multiple carriers Premium economy      13\n",
       "Jet Airways Business                    6\n",
       "Vistara Premium economy                 3\n",
       "Trujet                                  1\n",
       "Name: count, dtype: int64"
      ]
     },
     "execution_count": 10,
     "metadata": {},
     "output_type": "execute_result"
    }
   ],
   "source": [
    "df['Airline'].value_counts()"
   ]
  },
  {
   "cell_type": "code",
   "execution_count": 11,
   "id": "17d3cfee",
   "metadata": {},
   "outputs": [
    {
     "data": {
      "text/html": [
       "<div>\n",
       "<style scoped>\n",
       "    .dataframe tbody tr th:only-of-type {\n",
       "        vertical-align: middle;\n",
       "    }\n",
       "\n",
       "    .dataframe tbody tr th {\n",
       "        vertical-align: top;\n",
       "    }\n",
       "\n",
       "    .dataframe thead th {\n",
       "        text-align: right;\n",
       "    }\n",
       "</style>\n",
       "<table border=\"1\" class=\"dataframe\">\n",
       "  <thead>\n",
       "    <tr style=\"text-align: right;\">\n",
       "      <th></th>\n",
       "      <th>Airline</th>\n",
       "      <th>Date_of_Journey</th>\n",
       "      <th>Source</th>\n",
       "      <th>Destination</th>\n",
       "      <th>Route</th>\n",
       "      <th>Dep_Time</th>\n",
       "      <th>Arrival_Time</th>\n",
       "      <th>Duration</th>\n",
       "      <th>Total_Stops</th>\n",
       "      <th>Additional_Info</th>\n",
       "      <th>Price</th>\n",
       "    </tr>\n",
       "  </thead>\n",
       "  <tbody>\n",
       "    <tr>\n",
       "      <th>657</th>\n",
       "      <td>Jet Airways Business</td>\n",
       "      <td>01/03/2019</td>\n",
       "      <td>Banglore</td>\n",
       "      <td>New Delhi</td>\n",
       "      <td>BLR → BOM → DEL</td>\n",
       "      <td>05:45</td>\n",
       "      <td>10:45</td>\n",
       "      <td>5h</td>\n",
       "      <td>1 stop</td>\n",
       "      <td>No info</td>\n",
       "      <td>52229</td>\n",
       "    </tr>\n",
       "    <tr>\n",
       "      <th>2904</th>\n",
       "      <td>Jet Airways Business</td>\n",
       "      <td>01/03/2019</td>\n",
       "      <td>Banglore</td>\n",
       "      <td>New Delhi</td>\n",
       "      <td>BLR → BOM → DEL</td>\n",
       "      <td>05:45</td>\n",
       "      <td>11:25</td>\n",
       "      <td>5h 40m</td>\n",
       "      <td>1 stop</td>\n",
       "      <td>Business class</td>\n",
       "      <td>79512</td>\n",
       "    </tr>\n",
       "    <tr>\n",
       "      <th>5312</th>\n",
       "      <td>Jet Airways Business</td>\n",
       "      <td>01/03/2019</td>\n",
       "      <td>Banglore</td>\n",
       "      <td>New Delhi</td>\n",
       "      <td>BLR → BOM → DEL</td>\n",
       "      <td>05:45</td>\n",
       "      <td>12:25</td>\n",
       "      <td>6h 40m</td>\n",
       "      <td>1 stop</td>\n",
       "      <td>Business class</td>\n",
       "      <td>62427</td>\n",
       "    </tr>\n",
       "    <tr>\n",
       "      <th>7254</th>\n",
       "      <td>Jet Airways Business</td>\n",
       "      <td>3/03/2019</td>\n",
       "      <td>Delhi</td>\n",
       "      <td>Cochin</td>\n",
       "      <td>DEL → ATQ → BOM → COK</td>\n",
       "      <td>20:05</td>\n",
       "      <td>04:25 04 Mar</td>\n",
       "      <td>8h 20m</td>\n",
       "      <td>2 stops</td>\n",
       "      <td>No info</td>\n",
       "      <td>46490</td>\n",
       "    </tr>\n",
       "    <tr>\n",
       "      <th>9537</th>\n",
       "      <td>Jet Airways Business</td>\n",
       "      <td>6/03/2019</td>\n",
       "      <td>Delhi</td>\n",
       "      <td>Cochin</td>\n",
       "      <td>DEL → ATQ → BOM → COK</td>\n",
       "      <td>20:05</td>\n",
       "      <td>04:25 07 Mar</td>\n",
       "      <td>8h 20m</td>\n",
       "      <td>2 stops</td>\n",
       "      <td>No info</td>\n",
       "      <td>52285</td>\n",
       "    </tr>\n",
       "    <tr>\n",
       "      <th>10159</th>\n",
       "      <td>Jet Airways Business</td>\n",
       "      <td>01/03/2019</td>\n",
       "      <td>Banglore</td>\n",
       "      <td>New Delhi</td>\n",
       "      <td>BLR → MAA → DEL</td>\n",
       "      <td>09:45</td>\n",
       "      <td>14:25</td>\n",
       "      <td>4h 40m</td>\n",
       "      <td>1 stop</td>\n",
       "      <td>Business class</td>\n",
       "      <td>57209</td>\n",
       "    </tr>\n",
       "  </tbody>\n",
       "</table>\n",
       "</div>"
      ],
      "text/plain": [
       "                    Airline Date_of_Journey    Source Destination  \\\n",
       "657    Jet Airways Business      01/03/2019  Banglore   New Delhi   \n",
       "2904   Jet Airways Business      01/03/2019  Banglore   New Delhi   \n",
       "5312   Jet Airways Business      01/03/2019  Banglore   New Delhi   \n",
       "7254   Jet Airways Business       3/03/2019     Delhi      Cochin   \n",
       "9537   Jet Airways Business       6/03/2019     Delhi      Cochin   \n",
       "10159  Jet Airways Business      01/03/2019  Banglore   New Delhi   \n",
       "\n",
       "                       Route Dep_Time  Arrival_Time Duration Total_Stops  \\\n",
       "657          BLR → BOM → DEL    05:45         10:45       5h      1 stop   \n",
       "2904         BLR → BOM → DEL    05:45         11:25   5h 40m      1 stop   \n",
       "5312         BLR → BOM → DEL    05:45         12:25   6h 40m      1 stop   \n",
       "7254   DEL → ATQ → BOM → COK    20:05  04:25 04 Mar   8h 20m     2 stops   \n",
       "9537   DEL → ATQ → BOM → COK    20:05  04:25 07 Mar   8h 20m     2 stops   \n",
       "10159        BLR → MAA → DEL    09:45         14:25   4h 40m      1 stop   \n",
       "\n",
       "      Additional_Info  Price  \n",
       "657           No info  52229  \n",
       "2904   Business class  79512  \n",
       "5312   Business class  62427  \n",
       "7254          No info  46490  \n",
       "9537          No info  52285  \n",
       "10159  Business class  57209  "
      ]
     },
     "execution_count": 11,
     "metadata": {},
     "output_type": "execute_result"
    }
   ],
   "source": [
    "df[df['Airline'] == 'Jet Airways Business']"
   ]
  },
  {
   "cell_type": "code",
   "execution_count": null,
   "id": "071feea0",
   "metadata": {},
   "outputs": [],
   "source": []
  },
  {
   "cell_type": "code",
   "execution_count": 12,
   "id": "81bd24ab",
   "metadata": {},
   "outputs": [],
   "source": [
    "# Clean the 'Airline' column in the DataFrame 'daf' by removing ' Premium economy' from the airline names.\n",
    "# Update the 'Additional_Info' column to indicate 'Premium economy' for rows where the change is made.\n",
    "# Return the modified DataFrame.\n",
    "def clean(daf):\n",
    "    if ' Premium economy' in daf['Airline']:\n",
    "        # Replace ' Premium economy' with an empty string in the 'Airline' column.\n",
    "        daf['Airline'] = daf['Airline'].replace(' Premium economy', '')\n",
    "        # Update the 'Additional_Info' column to indicate 'Premium economy'.\n",
    "        daf['Additional_Info'] = 'Premium economy'\n",
    "    # Return the modified DataFrame.\n",
    "    return daf"
   ]
  },
  {
   "cell_type": "code",
   "execution_count": 13,
   "id": "341d281c",
   "metadata": {},
   "outputs": [],
   "source": [
    "# Apply the 'clean' function element-wise along each row of the Pandas DataFrame 'df', \n",
    "# modifying the 'Airline' and 'Additional_Info' columns to handle 'Premium economy'.\n",
    "# Create a copy of the DataFrame after the modifications.\n",
    "df = df.apply(clean, axis=1).copy()"
   ]
  },
  {
   "cell_type": "code",
   "execution_count": 14,
   "id": "078eb424",
   "metadata": {},
   "outputs": [],
   "source": [
    "# Clean the 'Airline' column in the DataFrame 'daf' by removing ' Business' from the airline names.\n",
    "# Update the 'Additional_Info' column to indicate 'Business class' for rows where the change is made.\n",
    "# Return the modified DataFrame.\n",
    "def cleann(daf):\n",
    "    if ' Business' in daf['Airline']:\n",
    "        # Replace ' Business' with an empty string in the 'Airline' column.\n",
    "        daf['Airline'] = daf['Airline'].replace(' Business', '')\n",
    "        # Update the 'Additional_Info' column to indicate 'Business class'.\n",
    "        daf['Additional_Info'] = 'Business class'\n",
    "    # Return the modified DataFrame.\n",
    "    return daf"
   ]
  },
  {
   "cell_type": "code",
   "execution_count": 15,
   "id": "abe2cd2a",
   "metadata": {},
   "outputs": [],
   "source": [
    "# Apply the 'cleann' function element-wise along each row of the Pandas DataFrame 'df',\n",
    "# modifying the 'Airline' and 'Additional_Info' columns to handle 'Business class'.\n",
    "# Create a copy of the DataFrame after the modifications.\n",
    "df = df.apply(cleann, axis=1).copy()"
   ]
  },
  {
   "cell_type": "code",
   "execution_count": 16,
   "id": "ffb12884",
   "metadata": {},
   "outputs": [
    {
     "data": {
      "text/plain": [
       "Airline\n",
       "Jet Airways          3706\n",
       "IndiGo               2043\n",
       "Air India            1694\n",
       "Multiple carriers    1209\n",
       "SpiceJet              815\n",
       "Vistara               481\n",
       "Air Asia              319\n",
       "GoAir                 194\n",
       "Trujet                  1\n",
       "Name: count, dtype: int64"
      ]
     },
     "execution_count": 16,
     "metadata": {},
     "output_type": "execute_result"
    }
   ],
   "source": [
    "df.Airline.value_counts()"
   ]
  },
  {
   "cell_type": "code",
   "execution_count": 17,
   "id": "91e8f3be",
   "metadata": {},
   "outputs": [],
   "source": [
    "# Find the indices of rows in the Pandas DataFrame 'df' where the 'Airline' column has the value 'Trujet'.\n",
    "idx = df[df['Airline'] == 'Trujet'].index"
   ]
  },
  {
   "cell_type": "code",
   "execution_count": 18,
   "id": "4a731535",
   "metadata": {},
   "outputs": [],
   "source": [
    "# Drop rows from the Pandas DataFrame 'df' where the 'Airline' column has the value 'Trujet'.\n",
    "df.drop(idx, axis=0, inplace=True)\n",
    "# Reset the index of the DataFrame after dropping rows and modify it in-place\n",
    "df.reset_index(drop=True, inplace=True)"
   ]
  },
  {
   "cell_type": "code",
   "execution_count": 26,
   "id": "a3a04c98",
   "metadata": {},
   "outputs": [
    {
     "data": {
      "text/plain": [
       "<Axes: xlabel='Airline', ylabel='count'>"
      ]
     },
     "execution_count": 26,
     "metadata": {},
     "output_type": "execute_result"
    },
    {
     "data": {
      "image/png": "[encoded data removed]",
      "text/plain": [
       "<Figure size 640x480 with 1 Axes>"
      ]
     },
     "metadata": {},
     "output_type": "display_data"
    }
   ],
   "source": [
    "sns.countplot(df, x=df.Airline)"
   ]
  },
  {
   "cell_type": "code",
   "execution_count": 27,
   "id": "4788008c",
   "metadata": {},
   "outputs": [
    {
     "data": {
      "text/plain": [
       "Airline\n",
       "Air Asia              5590.260188\n",
       "Air India             9556.608028\n",
       "GoAir                 5861.056701\n",
       "IndiGo                5668.469897\n",
       "Jet Airways          11674.724771\n",
       "Multiple carriers    10908.228288\n",
       "SpiceJet              4335.841718\n",
       "Vistara               7808.596674\n",
       "Name: Price, dtype: float64"
      ]
     },
     "execution_count": 27,
     "metadata": {},
     "output_type": "execute_result"
    }
   ],
   "source": [
    "# Calculate the mean (average) 'Price' for each unique value in the 'Airline' column using Pandas groupby.\n",
    "average_prices_by_airline = df.groupby('Airline')['Price'].mean()"
   ]
  },
  {
   "cell_type": "code",
   "execution_count": null,
   "id": "4d8c454c",
   "metadata": {},
   "outputs": [],
   "source": []
  },
  {
   "cell_type": "code",
   "execution_count": 28,
   "id": "7ddd3199",
   "metadata": {},
   "outputs": [
    {
     "data": {
      "text/plain": [
       "['01/03/2019',\n",
       " '03/03/2019',\n",
       " '06/03/2019',\n",
       " '09/03/2019',\n",
       " '1/03/2019',\n",
       " '1/04/2019',\n",
       " '1/05/2019',\n",
       " '1/06/2019',\n",
       " '12/03/2019',\n",
       " '12/04/2019',\n",
       " '12/05/2019',\n",
       " '12/06/2019',\n",
       " '15/03/2019',\n",
       " '15/04/2019',\n",
       " '15/05/2019',\n",
       " '15/06/2019',\n",
       " '18/03/2019',\n",
       " '18/04/2019',\n",
       " '18/05/2019',\n",
       " '18/06/2019',\n",
       " '21/03/2019',\n",
       " '21/04/2019',\n",
       " '21/05/2019',\n",
       " '21/06/2019',\n",
       " '24/03/2019',\n",
       " '24/04/2019',\n",
       " '24/05/2019',\n",
       " '24/06/2019',\n",
       " '27/03/2019',\n",
       " '27/04/2019',\n",
       " '27/05/2019',\n",
       " '27/06/2019',\n",
       " '3/03/2019',\n",
       " '3/04/2019',\n",
       " '3/05/2019',\n",
       " '3/06/2019',\n",
       " '6/03/2019',\n",
       " '6/04/2019',\n",
       " '6/05/2019',\n",
       " '6/06/2019',\n",
       " '9/03/2019',\n",
       " '9/04/2019',\n",
       " '9/05/2019',\n",
       " '9/06/2019']"
      ]
     },
     "execution_count": 28,
     "metadata": {},
     "output_type": "execute_result"
    }
   ],
   "source": [
    "sorted(df['Date_of_Journey'].unique())"
   ]
  },
  {
   "cell_type": "code",
   "execution_count": 29,
   "id": "e8558867",
   "metadata": {},
   "outputs": [
    {
     "data": {
      "text/plain": [
       "10"
      ]
     },
     "execution_count": 29,
     "metadata": {},
     "output_type": "execute_result"
    }
   ],
   "source": [
    "len(df['Date_of_Journey'].iloc[0])"
   ]
  },
  {
   "cell_type": "code",
   "execution_count": 30,
   "id": "882518b2",
   "metadata": {},
   "outputs": [
    {
     "name": "stdout",
     "output_type": "stream",
     "text": [
      "1/05/2019\n",
      "9/06/2019\n",
      "1/06/2019\n",
      "9/05/2019\n",
      "3/03/2019\n",
      "6/03/2019\n",
      "3/04/2019\n",
      "6/05/2019\n",
      "6/04/2019\n",
      "3/06/2019\n",
      "3/05/2019\n",
      "9/03/2019\n",
      "6/06/2019\n",
      "1/04/2019\n",
      "9/04/2019\n",
      "1/03/2019\n"
     ]
    }
   ],
   "source": [
    "# Iterate over unique dates in the 'Date_of_Journey' column of the DataFrame 'df'.\n",
    "for i in df[\"Date_of_Journey\"].unique().tolist():\n",
    "    # Check if the length of the date string is less than 10.\n",
    "    if len(i) < 10:\n",
    "        # Print the date if its length is less than 10.\n",
    "        print(i)"
   ]
  },
  {
   "cell_type": "code",
   "execution_count": 31,
   "id": "1260ec71",
   "metadata": {},
   "outputs": [],
   "source": [
    "# Clean the 'Date_of_Journey' column in the DataFrame 'daf' by ensuring day values are zero-padded.\n",
    "def clean_date(daf):\n",
    "    # Extract the date string from the 'Date_of_Journey' column.\n",
    "    date_str = daf['Date_of_Journey']\n",
    "    \n",
    "    # Split the date string into day, month, and year parts.\n",
    "    parts = date_str.split('/')\n",
    "    \n",
    "    # Check if the day part has a single digit and, if so, zero-pad it.\n",
    "    if len(parts[0]) == 1:\n",
    "        parts[0] = '0' + parts[0]\n",
    "    \n",
    "    # Join the modified date parts back into a string.\n",
    "    padded_date = '/'.join(parts)\n",
    "    \n",
    "    # Update the 'Date_of_Journey' column with the zero-padded date.\n",
    "    daf['Date_of_Journey'] = padded_date\n",
    "    \n",
    "    # Return the modified DataFrame.\n",
    "    return daf"
   ]
  },
  {
   "cell_type": "code",
   "execution_count": 32,
   "id": "0480535b",
   "metadata": {},
   "outputs": [],
   "source": [
    "# Applying the function to the 'Date_of_Journey' column\n",
    "df = df.apply(clean_date, axis=1)"
   ]
  },
  {
   "cell_type": "code",
   "execution_count": 33,
   "id": "93535de3",
   "metadata": {},
   "outputs": [],
   "source": [
    "# Convert the 'Date_of_Journey' column in the Pandas DataFrame 'df' to datetime format,\n",
    "# specifying the expected date format as '%d/%m/%Y' and handling errors by coercing them to NaT (Not a Time).\n",
    "df[\"Date_of_Journey\"] = pd.to_datetime(df[\"Date_of_Journey\"], format='%d/%m/%Y', errors=\"coerce\")"
   ]
  },
  {
   "cell_type": "code",
   "execution_count": 34,
   "id": "23fc2bf7",
   "metadata": {},
   "outputs": [],
   "source": [
    "# Extract and store the month names in the 'Month' column.\n",
    "df[\"Month\"] = df[\"Date_of_Journey\"].dt.month_name()\n",
    "\n",
    "# Extract and store the day names in the 'Day' column.\n",
    "df[\"Day\"] = df[\"Date_of_Journey\"].dt.day_name()"
   ]
  },
  {
   "cell_type": "code",
   "execution_count": null,
   "id": "c5c037b6",
   "metadata": {},
   "outputs": [],
   "source": []
  },
  {
   "cell_type": "code",
   "execution_count": 37,
   "id": "c2d43da9",
   "metadata": {},
   "outputs": [
    {
     "data": {
      "text/plain": [
       "Source\n",
       "Delhi       4345\n",
       "Kolkata     2860\n",
       "Banglore    2179\n",
       "Mumbai       696\n",
       "Chennai      381\n",
       "Name: count, dtype: int64"
      ]
     },
     "execution_count": 37,
     "metadata": {},
     "output_type": "execute_result"
    }
   ],
   "source": [
    "df['Source'].value_counts()"
   ]
  },
  {
   "cell_type": "code",
   "execution_count": 38,
   "id": "959feacb",
   "metadata": {},
   "outputs": [
    {
     "data": {
      "text/plain": [
       "<Axes: xlabel='Source', ylabel='count'>"
      ]
     },
     "execution_count": 38,
     "metadata": {},
     "output_type": "execute_result"
    },
    {
     "data": {
      "image/png": "[encoded data removed]",
      "text/plain": [
       "<Figure size 640x480 with 1 Axes>"
      ]
     },
     "metadata": {},
     "output_type": "display_data"
    }
   ],
   "source": [
    "sns.countplot(df, x=df.Source)"
   ]
  },
  {
   "cell_type": "code",
   "execution_count": null,
   "id": "1e85fe16",
   "metadata": {},
   "outputs": [],
   "source": []
  },
  {
   "cell_type": "code",
   "execution_count": 29,
   "id": "6d285b1a",
   "metadata": {},
   "outputs": [
    {
     "data": {
      "text/plain": [
       "Destination\n",
       "Cochin       4345\n",
       "Banglore     2860\n",
       "Delhi        1265\n",
       "New Delhi     914\n",
       "Hyderabad     696\n",
       "Kolkata       381\n",
       "Name: count, dtype: int64"
      ]
     },
     "execution_count": 29,
     "metadata": {},
     "output_type": "execute_result"
    }
   ],
   "source": [
    "df['Destination'].value_counts()"
   ]
  },
  {
   "cell_type": "code",
   "execution_count": 39,
   "id": "8d520d0f",
   "metadata": {},
   "outputs": [
    {
     "data": {
      "text/plain": [
       "<Axes: xlabel='Destination', ylabel='count'>"
      ]
     },
     "execution_count": 39,
     "metadata": {},
     "output_type": "execute_result"
    },
    {
     "data": {
      "image/png": "[encoded data removed]",
      "text/plain": [
       "<Figure size 640x480 with 1 Axes>"
      ]
     },
     "metadata": {},
     "output_type": "display_data"
    }
   ],
   "source": [
    "sns.countplot(df, x=df.Destination)"
   ]
  },
  {
   "cell_type": "code",
   "execution_count": null,
   "id": "f0ed8f4b",
   "metadata": {},
   "outputs": [],
   "source": []
  },
  {
   "cell_type": "code",
   "execution_count": 40,
   "id": "86cda5ff",
   "metadata": {},
   "outputs": [
    {
     "data": {
      "text/plain": [
       "Route\n",
       "DEL → BOM → COK          2376\n",
       "BLR → DEL                1536\n",
       "CCU → BOM → BLR           979\n",
       "CCU → BLR                 724\n",
       "BOM → HYD                 621\n",
       "                         ... \n",
       "CCU → RPR → HYD → BLR       1\n",
       "CCU → VTZ → BLR             1\n",
       "CCU → IXZ → MAA → BLR       1\n",
       "BOM → COK → MAA → HYD       1\n",
       "BOM → BBI → HYD             1\n",
       "Name: count, Length: 127, dtype: int64"
      ]
     },
     "execution_count": 40,
     "metadata": {},
     "output_type": "execute_result"
    }
   ],
   "source": [
    "df['Route'].value_counts()"
   ]
  },
  {
   "cell_type": "code",
   "execution_count": 41,
   "id": "f14232c5",
   "metadata": {},
   "outputs": [
    {
     "data": {
      "text/plain": [
       "Total_Stops\n",
       "1 stop    2376\n",
       "Name: count, dtype: int64"
      ]
     },
     "execution_count": 41,
     "metadata": {},
     "output_type": "execute_result"
    }
   ],
   "source": [
    "df[df['Route'] == 'DEL → BOM → COK']['Total_Stops'].value_counts()"
   ]
  },
  {
   "cell_type": "code",
   "execution_count": 42,
   "id": "0b7e75c0",
   "metadata": {},
   "outputs": [
    {
     "data": {
      "text/plain": [
       "' → '"
      ]
     },
     "execution_count": 42,
     "metadata": {},
     "output_type": "execute_result"
    }
   ],
   "source": [
    "# Extract a substring from the 'Route' column of the Pandas DataFrame 'df', specifically characters at positions 3 to 5.\n",
    "arrow = df['Route'].iloc[1][3:6]\n",
    "arrow"
   ]
  },
  {
   "cell_type": "code",
   "execution_count": 43,
   "id": "7dce4522",
   "metadata": {},
   "outputs": [],
   "source": [
    "# Apply a lambda function to split each string in the 'Route' column of the Pandas DataFrame 'df'\n",
    "# using the substring 'arrow' as the delimiter.\n",
    "df['Route'] = df['Route'].apply(lambda x: x.split(arrow))"
   ]
  },
  {
   "cell_type": "code",
   "execution_count": 44,
   "id": "7e2bf933",
   "metadata": {},
   "outputs": [],
   "source": [
    "# Calculate and return the number of stops based on the length of the input list 'r'.\n",
    "def gt(r):\n",
    "    # Calculate the number of stops as the length of 'r' minus 2.\n",
    "    stops = len(r) - 2\n",
    "    return stops"
   ]
  },
  {
   "cell_type": "code",
   "execution_count": 45,
   "id": "b612310a",
   "metadata": {},
   "outputs": [],
   "source": [
    "# Calculate the number of stops for each row in the Pandas DataFrame 'df'\n",
    "# based on the length of the 'Route' list and store the result in the 'Total_Stops' column.\n",
    "df['Total_Stops'] = df['Route'].apply(gt)"
   ]
  },
  {
   "cell_type": "code",
   "execution_count": 55,
   "id": "e691a3e8",
   "metadata": {},
   "outputs": [
    {
     "data": {
      "text/plain": [
       "<Axes: xlabel='Total_Stops', ylabel='count'>"
      ]
     },
     "execution_count": 55,
     "metadata": {},
     "output_type": "execute_result"
    },
    {
     "data": {
      "image/png": "[encoded data removed]",
      "text/plain": [
       "<Figure size 640x480 with 1 Axes>"
      ]
     },
     "metadata": {},
     "output_type": "display_data"
    }
   ],
   "source": [
    "sns.countplot(df, x=df.Total_Stops)"
   ]
  },
  {
   "cell_type": "code",
   "execution_count": null,
   "id": "027ddbce",
   "metadata": {},
   "outputs": [],
   "source": []
  },
  {
   "cell_type": "code",
   "execution_count": 46,
   "id": "d29f7868",
   "metadata": {},
   "outputs": [
    {
     "data": {
      "text/plain": [
       "['10h',\n",
       " '10h 10m',\n",
       " '10h 15m',\n",
       " '10h 20m',\n",
       " '10h 25m',\n",
       " '10h 30m',\n",
       " '10h 35m',\n",
       " '10h 40m',\n",
       " '10h 45m',\n",
       " '10h 50m',\n",
       " '10h 55m',\n",
       " '10h 5m',\n",
       " '11h',\n",
       " '11h 10m',\n",
       " '11h 15m',\n",
       " '11h 20m',\n",
       " '11h 25m',\n",
       " '11h 30m',\n",
       " '11h 35m',\n",
       " '11h 40m',\n",
       " '11h 45m',\n",
       " '11h 50m',\n",
       " '11h 55m',\n",
       " '11h 5m',\n",
       " '12h',\n",
       " '12h 10m',\n",
       " '12h 15m',\n",
       " '12h 20m',\n",
       " '12h 25m',\n",
       " '12h 30m',\n",
       " '12h 35m',\n",
       " '12h 40m',\n",
       " '12h 45m',\n",
       " '12h 50m',\n",
       " '12h 55m',\n",
       " '12h 5m',\n",
       " '13h',\n",
       " '13h 10m',\n",
       " '13h 15m',\n",
       " '13h 20m',\n",
       " '13h 25m',\n",
       " '13h 30m',\n",
       " '13h 35m',\n",
       " '13h 40m',\n",
       " '13h 45m',\n",
       " '13h 50m',\n",
       " '13h 55m',\n",
       " '13h 5m',\n",
       " '14h',\n",
       " '14h 10m',\n",
       " '14h 15m',\n",
       " '14h 20m',\n",
       " '14h 25m',\n",
       " '14h 30m',\n",
       " '14h 35m',\n",
       " '14h 40m',\n",
       " '14h 45m',\n",
       " '14h 50m',\n",
       " '14h 55m',\n",
       " '14h 5m',\n",
       " '15h',\n",
       " '15h 10m',\n",
       " '15h 15m',\n",
       " '15h 20m',\n",
       " '15h 25m',\n",
       " '15h 30m',\n",
       " '15h 35m',\n",
       " '15h 40m',\n",
       " '15h 45m',\n",
       " '15h 50m',\n",
       " '15h 55m',\n",
       " '15h 5m',\n",
       " '16h',\n",
       " '16h 10m',\n",
       " '16h 15m',\n",
       " '16h 20m',\n",
       " '16h 25m',\n",
       " '16h 30m',\n",
       " '16h 35m',\n",
       " '16h 40m',\n",
       " '16h 45m',\n",
       " '16h 50m',\n",
       " '16h 55m',\n",
       " '16h 5m',\n",
       " '17h 10m',\n",
       " '17h 15m',\n",
       " '17h 20m',\n",
       " '17h 25m',\n",
       " '17h 30m',\n",
       " '17h 35m',\n",
       " '17h 40m',\n",
       " '17h 45m',\n",
       " '17h 50m',\n",
       " '17h 55m',\n",
       " '17h 5m',\n",
       " '18h',\n",
       " '18h 10m',\n",
       " '18h 15m',\n",
       " '18h 20m',\n",
       " '18h 25m',\n",
       " '18h 30m',\n",
       " '18h 35m',\n",
       " '18h 40m',\n",
       " '18h 45m',\n",
       " '18h 50m',\n",
       " '18h 55m',\n",
       " '19h',\n",
       " '19h 10m',\n",
       " '19h 15m',\n",
       " '19h 20m',\n",
       " '19h 25m',\n",
       " '19h 30m',\n",
       " '19h 35m',\n",
       " '19h 40m',\n",
       " '19h 45m',\n",
       " '19h 50m',\n",
       " '19h 55m',\n",
       " '19h 5m',\n",
       " '1h 15m',\n",
       " '1h 20m',\n",
       " '1h 25m',\n",
       " '1h 30m',\n",
       " '1h 35m',\n",
       " '20h',\n",
       " '20h 10m',\n",
       " '20h 15m',\n",
       " '20h 20m',\n",
       " '20h 25m',\n",
       " '20h 35m',\n",
       " '20h 40m',\n",
       " '20h 45m',\n",
       " '20h 50m',\n",
       " '20h 55m',\n",
       " '20h 5m',\n",
       " '21h',\n",
       " '21h 10m',\n",
       " '21h 15m',\n",
       " '21h 20m',\n",
       " '21h 25m',\n",
       " '21h 30m',\n",
       " '21h 35m',\n",
       " '21h 40m',\n",
       " '21h 45m',\n",
       " '21h 50m',\n",
       " '21h 55m',\n",
       " '21h 5m',\n",
       " '22h',\n",
       " '22h 10m',\n",
       " '22h 15m',\n",
       " '22h 25m',\n",
       " '22h 30m',\n",
       " '22h 35m',\n",
       " '22h 40m',\n",
       " '22h 45m',\n",
       " '22h 55m',\n",
       " '22h 5m',\n",
       " '23h',\n",
       " '23h 10m',\n",
       " '23h 15m',\n",
       " '23h 20m',\n",
       " '23h 25m',\n",
       " '23h 30m',\n",
       " '23h 35m',\n",
       " '23h 40m',\n",
       " '23h 45m',\n",
       " '23h 50m',\n",
       " '23h 55m',\n",
       " '23h 5m',\n",
       " '24h',\n",
       " '24h 10m',\n",
       " '24h 15m',\n",
       " '24h 20m',\n",
       " '24h 25m',\n",
       " '24h 30m',\n",
       " '24h 35m',\n",
       " '24h 40m',\n",
       " '24h 45m',\n",
       " '24h 50m',\n",
       " '24h 55m',\n",
       " '24h 5m',\n",
       " '25h',\n",
       " '25h 10m',\n",
       " '25h 15m',\n",
       " '25h 20m',\n",
       " '25h 25m',\n",
       " '25h 30m',\n",
       " '25h 35m',\n",
       " '25h 40m',\n",
       " '25h 45m',\n",
       " '25h 50m',\n",
       " '25h 55m',\n",
       " '25h 5m',\n",
       " '26h',\n",
       " '26h 10m',\n",
       " '26h 15m',\n",
       " '26h 20m',\n",
       " '26h 25m',\n",
       " '26h 30m',\n",
       " '26h 35m',\n",
       " '26h 40m',\n",
       " '26h 45m',\n",
       " '26h 50m',\n",
       " '26h 55m',\n",
       " '26h 5m',\n",
       " '27h',\n",
       " '27h 10m',\n",
       " '27h 20m',\n",
       " '27h 25m',\n",
       " '27h 30m',\n",
       " '27h 35m',\n",
       " '27h 40m',\n",
       " '27h 45m',\n",
       " '27h 50m',\n",
       " '27h 55m',\n",
       " '27h 5m',\n",
       " '28h',\n",
       " '28h 10m',\n",
       " '28h 15m',\n",
       " '28h 20m',\n",
       " '28h 25m',\n",
       " '28h 30m',\n",
       " '28h 40m',\n",
       " '28h 50m',\n",
       " '28h 55m',\n",
       " '28h 5m',\n",
       " '29h 10m',\n",
       " '29h 20m',\n",
       " '29h 30m',\n",
       " '29h 35m',\n",
       " '29h 40m',\n",
       " '29h 50m',\n",
       " '29h 55m',\n",
       " '29h 5m',\n",
       " '2h 15m',\n",
       " '2h 20m',\n",
       " '2h 25m',\n",
       " '2h 30m',\n",
       " '2h 35m',\n",
       " '2h 40m',\n",
       " '2h 45m',\n",
       " '2h 50m',\n",
       " '2h 55m',\n",
       " '30h',\n",
       " '30h 10m',\n",
       " '30h 15m',\n",
       " '30h 20m',\n",
       " '30h 25m',\n",
       " '30h 30m',\n",
       " '30h 40m',\n",
       " '30h 45m',\n",
       " '30h 55m',\n",
       " '31h 30m',\n",
       " '31h 40m',\n",
       " '31h 50m',\n",
       " '31h 55m',\n",
       " '32h 20m',\n",
       " '32h 30m',\n",
       " '32h 55m',\n",
       " '32h 5m',\n",
       " '33h 15m',\n",
       " '33h 20m',\n",
       " '33h 45m',\n",
       " '34h',\n",
       " '34h 25m',\n",
       " '34h 30m',\n",
       " '34h 5m',\n",
       " '35h 15m',\n",
       " '35h 20m',\n",
       " '35h 35m',\n",
       " '35h 5m',\n",
       " '36h 10m',\n",
       " '36h 25m',\n",
       " '37h 10m',\n",
       " '37h 20m',\n",
       " '37h 25m',\n",
       " '38h',\n",
       " '38h 15m',\n",
       " '38h 20m',\n",
       " '38h 35m',\n",
       " '39h 5m',\n",
       " '3h',\n",
       " '3h 10m',\n",
       " '3h 15m',\n",
       " '3h 25m',\n",
       " '3h 35m',\n",
       " '3h 40m',\n",
       " '3h 50m',\n",
       " '3h 55m',\n",
       " '3h 5m',\n",
       " '40h 20m',\n",
       " '41h 20m',\n",
       " '42h 45m',\n",
       " '42h 5m',\n",
       " '47h',\n",
       " '47h 40m',\n",
       " '4h',\n",
       " '4h 10m',\n",
       " '4h 15m',\n",
       " '4h 20m',\n",
       " '4h 25m',\n",
       " '4h 30m',\n",
       " '4h 35m',\n",
       " '4h 40m',\n",
       " '4h 45m',\n",
       " '4h 50m',\n",
       " '4h 55m',\n",
       " '4h 5m',\n",
       " '5h',\n",
       " '5h 10m',\n",
       " '5h 15m',\n",
       " '5h 20m',\n",
       " '5h 25m',\n",
       " '5h 30m',\n",
       " '5h 35m',\n",
       " '5h 40m',\n",
       " '5h 45m',\n",
       " '5h 50m',\n",
       " '5h 55m',\n",
       " '5h 5m',\n",
       " '5m',\n",
       " '6h',\n",
       " '6h 10m',\n",
       " '6h 15m',\n",
       " '6h 20m',\n",
       " '6h 25m',\n",
       " '6h 30m',\n",
       " '6h 35m',\n",
       " '6h 40m',\n",
       " '6h 45m',\n",
       " '6h 50m',\n",
       " '6h 55m',\n",
       " '6h 5m',\n",
       " '7h',\n",
       " '7h 10m',\n",
       " '7h 15m',\n",
       " '7h 20m',\n",
       " '7h 25m',\n",
       " '7h 30m',\n",
       " '7h 35m',\n",
       " '7h 40m',\n",
       " '7h 45m',\n",
       " '7h 50m',\n",
       " '7h 55m',\n",
       " '7h 5m',\n",
       " '8h',\n",
       " '8h 10m',\n",
       " '8h 15m',\n",
       " '8h 20m',\n",
       " '8h 25m',\n",
       " '8h 30m',\n",
       " '8h 35m',\n",
       " '8h 40m',\n",
       " '8h 45m',\n",
       " '8h 50m',\n",
       " '8h 55m',\n",
       " '8h 5m',\n",
       " '9h',\n",
       " '9h 10m',\n",
       " '9h 15m',\n",
       " '9h 20m',\n",
       " '9h 25m',\n",
       " '9h 30m',\n",
       " '9h 35m',\n",
       " '9h 40m',\n",
       " '9h 45m',\n",
       " '9h 50m',\n",
       " '9h 55m',\n",
       " '9h 5m']"
      ]
     },
     "execution_count": 46,
     "metadata": {},
     "output_type": "execute_result"
    }
   ],
   "source": [
    "sorted(df['Duration'].unique())"
   ]
  },
  {
   "cell_type": "code",
   "execution_count": 47,
   "id": "8db7063e",
   "metadata": {},
   "outputs": [],
   "source": [
    "# Find the indices of rows in the Pandas DataFrame 'df' where the 'Duration' column has the value '5m'.\n",
    "idx = df[df['Duration'] == '5m'].index"
   ]
  },
  {
   "cell_type": "code",
   "execution_count": 48,
   "id": "c6978c71",
   "metadata": {},
   "outputs": [],
   "source": [
    "# Drop rows from the Pandas DataFrame 'df' where the 'Duration' column has the value '5m'.\n",
    "# Reset the index of the DataFrame after dropping rows and modify it in-place.\n",
    "df.drop(idx, axis=0, inplace=True)\n",
    "df.reset_index(drop=True, inplace=True)"
   ]
  },
  {
   "cell_type": "code",
   "execution_count": 49,
   "id": "0c8f7187",
   "metadata": {},
   "outputs": [],
   "source": [
    "# Extract the hours part from the 'Duration' column in the Pandas DataFrame 'df'\n",
    "# by applying a lambda function that splits each string at 'h' and takes the first part.\n",
    "df['Hours'] = df['Duration'].apply(lambda x: x.split('h')[0])"
   ]
  },
  {
   "cell_type": "code",
   "execution_count": 50,
   "id": "2ccfc694",
   "metadata": {},
   "outputs": [],
   "source": [
    "# Convert the 'Duration' column value in each row of the DataFrame 'df' to minutes.\n",
    "# Extract minutes from the 'Duration' string if it exists, otherwise return 0.\n",
    "def convert_duration(row):\n",
    "    duration_str = row['Duration']\n",
    "    \n",
    "    # Check if the 'Duration' string is longer than 3 characters.\n",
    "    if len(duration_str) > 3:\n",
    "        # Extract minutes from the end of the 'Duration' string.\n",
    "        minutes = duration_str.split()[-1].split('m')[0]\n",
    "        return minutes\n",
    "    else:\n",
    "        # If the 'Duration' string is not longer than 3 characters, return 0.\n",
    "        return 0"
   ]
  },
  {
   "cell_type": "code",
   "execution_count": 51,
   "id": "0681510c",
   "metadata": {},
   "outputs": [],
   "source": [
    "# Applying the function to the 'Duration' column\n",
    "df['minutes'] = df.apply(convert_duration, axis=1)"
   ]
  },
  {
   "cell_type": "code",
   "execution_count": 52,
   "id": "9296f3f0",
   "metadata": {},
   "outputs": [],
   "source": [
    "# Convert the 'Duration' column in the Pandas DataFrame 'df' to total minutes\n",
    "# by multiplying the 'Hours' column (converted to integer) by 60 and adding the 'minutes' column (converted to integer).\n",
    "df['Duration'] = (df['Hours'].astype(int) * 60) + df['minutes'].astype(int)"
   ]
  },
  {
   "cell_type": "code",
   "execution_count": 57,
   "id": "c616edcc",
   "metadata": {},
   "outputs": [
    {
     "data": {
      "text/plain": [
       "<Axes: xlabel='Duration', ylabel='Count'>"
      ]
     },
     "execution_count": 57,
     "metadata": {},
     "output_type": "execute_result"
    },
    {
     "data": {
      "image/png": "[encoded data removed]",
      "text/plain": [
       "<Figure size 640x480 with 1 Axes>"
      ]
     },
     "metadata": {},
     "output_type": "display_data"
    }
   ],
   "source": [
    "sns.histplot(df, x=df.Duration)"
   ]
  },
  {
   "cell_type": "code",
   "execution_count": 71,
   "id": "e77a8ae6",
   "metadata": {},
   "outputs": [
    {
     "data": {
      "text/plain": [
       "<Axes: xlabel='Duration', ylabel='Price'>"
      ]
     },
     "execution_count": 71,
     "metadata": {},
     "output_type": "execute_result"
    },
    {
     "data": {
      "image/png": "[encoded data removed]",
      "text/plain": [
       "<Figure size 640x480 with 1 Axes>"
      ]
     },
     "metadata": {},
     "output_type": "display_data"
    }
   ],
   "source": [
    "sns.scatterplot(df, x=df.Duration, y=df.Price)"
   ]
  },
  {
   "cell_type": "code",
   "execution_count": 65,
   "id": "1d10d819",
   "metadata": {},
   "outputs": [],
   "source": [
    "# Find the indices of rows in the Pandas DataFrame 'df' where the 'Price' is greater than 30,000\n",
    "# and the 'Duration' is less than 750.\n",
    "idx = df[(df['Price'] > 30000) & (df['Duration'] < 750)].index"
   ]
  },
  {
   "cell_type": "code",
   "execution_count": 66,
   "id": "0417c720",
   "metadata": {},
   "outputs": [],
   "source": [
    "# Drop rows from the Pandas DataFrame 'df' where the 'Price' is greater than 30,000\n",
    "# and the 'Duration' is less than 750.\n",
    "df.drop(idx, axis=0, inplace=True)\n",
    "\n",
    "# Reset the index of the DataFrame after dropping rows and modify it in-place.\n",
    "df.reset_index(drop=True, inplace=True)"
   ]
  },
  {
   "cell_type": "code",
   "execution_count": 72,
   "id": "9dc2de4d",
   "metadata": {},
   "outputs": [
    {
     "data": {
      "text/plain": [
       "<Axes: xlabel='Duration', ylabel='Price'>"
      ]
     },
     "execution_count": 72,
     "metadata": {},
     "output_type": "execute_result"
    },
    {
     "data": {
      "image/png": "[encoded data removed]",
      "text/plain": [
       "<Figure size 640x480 with 1 Axes>"
      ]
     },
     "metadata": {},
     "output_type": "display_data"
    }
   ],
   "source": [
    "sns.scatterplot(df, x=df.Duration, y=df.Price)"
   ]
  },
  {
   "cell_type": "code",
   "execution_count": 68,
   "id": "7304f1dd",
   "metadata": {},
   "outputs": [],
   "source": [
    "# Find the indices of rows in the Pandas DataFrame 'df' where the 'Price' is less than 10,000\n",
    "# and the 'Duration' is greater than 2000.\n",
    "idx = df[(df['Price']<10000)&(df['Duration']>2000)].index"
   ]
  },
  {
   "cell_type": "code",
   "execution_count": 69,
   "id": "6a249e91",
   "metadata": {},
   "outputs": [],
   "source": [
    "df.drop(idx, axis=0, inplace=True)\n",
    "df.reset_index(drop=True, inplace=True)"
   ]
  },
  {
   "cell_type": "code",
   "execution_count": 73,
   "id": "3039e6a5",
   "metadata": {},
   "outputs": [
    {
     "data": {
      "text/plain": [
       "<Axes: xlabel='Duration', ylabel='Price'>"
      ]
     },
     "execution_count": 73,
     "metadata": {},
     "output_type": "execute_result"
    },
    {
     "data": {
      "image/png": "[encoded data removed]",
      "text/plain": [
       "<Figure size 640x480 with 1 Axes>"
      ]
     },
     "metadata": {},
     "output_type": "display_data"
    }
   ],
   "source": [
    "sns.scatterplot(df, x=df.Duration, y=df.Price)"
   ]
  },
  {
   "cell_type": "code",
   "execution_count": null,
   "id": "35bdd28f",
   "metadata": {},
   "outputs": [],
   "source": []
  },
  {
   "cell_type": "code",
   "execution_count": 74,
   "id": "e1a0edc4",
   "metadata": {},
   "outputs": [
    {
     "data": {
      "text/plain": [
       "Index(['Airline', 'Date_of_Journey', 'Source', 'Destination', 'Route',\n",
       "       'Dep_Time', 'Arrival_Time', 'Duration', 'Total_Stops',\n",
       "       'Additional_Info', 'Price', 'Month', 'Day', 'Hours', 'minutes'],\n",
       "      dtype='object')"
      ]
     },
     "execution_count": 74,
     "metadata": {},
     "output_type": "execute_result"
    }
   ],
   "source": [
    "df.columns"
   ]
  },
  {
   "cell_type": "code",
   "execution_count": null,
   "id": "ee1c399e",
   "metadata": {},
   "outputs": [],
   "source": []
  },
  {
   "cell_type": "code",
   "execution_count": 76,
   "id": "07ed3fa5",
   "metadata": {},
   "outputs": [
    {
     "data": {
      "text/plain": [
       "Additional_Info\n",
       "No info                         8142\n",
       "In-flight meal not included     1921\n",
       "No check-in baggage included     318\n",
       "1 Long layover                    17\n",
       "Premium economy                   16\n",
       "Change airports                    7\n",
       "No Info                            3\n",
       "1 Short layover                    1\n",
       "Business class                     1\n",
       "Red-eye flight                     1\n",
       "2 Long layover                     1\n",
       "Name: count, dtype: int64"
      ]
     },
     "execution_count": 76,
     "metadata": {},
     "output_type": "execute_result"
    }
   ],
   "source": [
    "df['Additional_Info'].value_counts()"
   ]
  },
  {
   "cell_type": "code",
   "execution_count": 77,
   "id": "7f9ef0d4",
   "metadata": {},
   "outputs": [],
   "source": [
    "# Convert all values in the 'Additional_Info' column of the Pandas DataFrame 'df' to lowercase.\n",
    "df['Additional_Info'] = df['Additional_Info'].apply(lambda x: x.lower())"
   ]
  },
  {
   "cell_type": "code",
   "execution_count": 78,
   "id": "c470fc63",
   "metadata": {},
   "outputs": [],
   "source": [
    "business = [\n",
    "    '1 long layover', 'premium economy', 'business class' ,'change airports', '1 short layover', 'red-eye flight', '2 long layover'\n",
    "]"
   ]
  },
  {
   "cell_type": "code",
   "execution_count": 79,
   "id": "e3549fe9",
   "metadata": {},
   "outputs": [],
   "source": [
    "# Clean the 'Additional_Info' column in the Pandas DataFrame 'df' by categorizing certain values as 'business'.\n",
    "def clean_Additional_Info(r):\n",
    "    if r in business:\n",
    "        return 'business'\n",
    "    else: \n",
    "        return r"
   ]
  },
  {
   "cell_type": "code",
   "execution_count": 80,
   "id": "d157608e",
   "metadata": {},
   "outputs": [],
   "source": [
    "df['Additional_Info'] = df['Additional_Info'].apply(clean_Additional_Info)"
   ]
  },
  {
   "cell_type": "code",
   "execution_count": 81,
   "id": "4a90161d",
   "metadata": {},
   "outputs": [
    {
     "data": {
      "text/plain": [
       "Additional_Info\n",
       "no info                         8145\n",
       "in-flight meal not included     1921\n",
       "no check-in baggage included     318\n",
       "business                          44\n",
       "Name: count, dtype: int64"
      ]
     },
     "execution_count": 81,
     "metadata": {},
     "output_type": "execute_result"
    }
   ],
   "source": [
    "df['Additional_Info'].value_counts()"
   ]
  },
  {
   "cell_type": "code",
   "execution_count": 82,
   "id": "b6100bb0",
   "metadata": {},
   "outputs": [
    {
     "data": {
      "text/plain": [
       "<Axes: xlabel='Additional_Info', ylabel='count'>"
      ]
     },
     "execution_count": 82,
     "metadata": {},
     "output_type": "execute_result"
    },
    {
     "data": {
      "image/png": "[encoded data removed]",
      "text/plain": [
       "<Figure size 640x480 with 1 Axes>"
      ]
     },
     "metadata": {},
     "output_type": "display_data"
    }
   ],
   "source": [
    "sns.countplot(df, x=df.Additional_Info)"
   ]
  },
  {
   "cell_type": "code",
   "execution_count": 88,
   "id": "641a026e",
   "metadata": {},
   "outputs": [
    {
     "data": {
      "text/plain": [
       "Additional_Info\n",
       "business                        16853.704545\n",
       "in-flight meal not included      9436.826132\n",
       "no check-in baggage included     3642.465409\n",
       "no info                          9016.319091\n",
       "Name: Price, dtype: float64"
      ]
     },
     "execution_count": 88,
     "metadata": {},
     "output_type": "execute_result"
    }
   ],
   "source": [
    "df.groupby(df.Additional_Info).Price.mean()"
   ]
  },
  {
   "cell_type": "code",
   "execution_count": null,
   "id": "2fb8ffa5",
   "metadata": {},
   "outputs": [],
   "source": []
  },
  {
   "cell_type": "code",
   "execution_count": 89,
   "id": "a587bcf9",
   "metadata": {},
   "outputs": [
    {
     "data": {
      "text/plain": [
       "count    10428.000000\n",
       "mean      8962.977465\n",
       "std       4338.033865\n",
       "min       1759.000000\n",
       "25%       5224.000000\n",
       "50%       8258.000000\n",
       "75%      12312.500000\n",
       "max      34273.000000\n",
       "Name: Price, dtype: float64"
      ]
     },
     "execution_count": 89,
     "metadata": {},
     "output_type": "execute_result"
    }
   ],
   "source": [
    "df['Price'].describe()"
   ]
  },
  {
   "cell_type": "code",
   "execution_count": 90,
   "id": "3fa18ecb",
   "metadata": {},
   "outputs": [
    {
     "data": {
      "text/plain": [
       "<Axes: xlabel='Price'>"
      ]
     },
     "execution_count": 90,
     "metadata": {},
     "output_type": "execute_result"
    },
    {
     "data": {
      "image/png": "[encoded data removed]",
      "text/plain": [
       "<Figure size 640x480 with 1 Axes>"
      ]
     },
     "metadata": {},
     "output_type": "display_data"
    }
   ],
   "source": [
    "sns.boxplot(df, x='Price')"
   ]
  },
  {
   "cell_type": "code",
   "execution_count": null,
   "id": "5300cda9",
   "metadata": {},
   "outputs": [],
   "source": []
  },
  {
   "cell_type": "code",
   "execution_count": 92,
   "id": "76b44d68",
   "metadata": {},
   "outputs": [
    {
     "data": {
      "text/plain": [
       "Month\n",
       "May      3393\n",
       "June     3308\n",
       "March    2650\n",
       "April    1077\n",
       "Name: count, dtype: int64"
      ]
     },
     "execution_count": 92,
     "metadata": {},
     "output_type": "execute_result"
    }
   ],
   "source": [
    "df['Month'].value_counts()"
   ]
  },
  {
   "cell_type": "code",
   "execution_count": 93,
   "id": "ce3087a9",
   "metadata": {},
   "outputs": [
    {
     "data": {
      "text/plain": [
       "<Axes: xlabel='Month', ylabel='count'>"
      ]
     },
     "execution_count": 93,
     "metadata": {},
     "output_type": "execute_result"
    },
    {
     "data": {
      "image/png": "[encoded data removed]",
      "text/plain": [
       "<Figure size 640x480 with 1 Axes>"
      ]
     },
     "metadata": {},
     "output_type": "display_data"
    }
   ],
   "source": [
    "sns.countplot(df, x=df.Month)"
   ]
  },
  {
   "cell_type": "code",
   "execution_count": null,
   "id": "93828060",
   "metadata": {},
   "outputs": [],
   "source": []
  },
  {
   "cell_type": "code",
   "execution_count": 61,
   "id": "eb1c61c3",
   "metadata": {},
   "outputs": [
    {
     "data": {
      "text/plain": [
       "Day\n",
       "Wednesday    2046\n",
       "Monday       1807\n",
       "Thursday     1774\n",
       "Saturday     1623\n",
       "Sunday       1449\n",
       "Friday        908\n",
       "Tuesday       853\n",
       "Name: count, dtype: int64"
      ]
     },
     "execution_count": 61,
     "metadata": {},
     "output_type": "execute_result"
    }
   ],
   "source": [
    "df['Day'].value_counts()"
   ]
  },
  {
   "cell_type": "code",
   "execution_count": 94,
   "id": "019c88cf",
   "metadata": {},
   "outputs": [
    {
     "data": {
      "text/plain": [
       "<Axes: xlabel='Day', ylabel='count'>"
      ]
     },
     "execution_count": 94,
     "metadata": {},
     "output_type": "execute_result"
    },
    {
     "data": {
      "image/png": "[encoded data removed]",
      "text/plain": [
       "<Figure size 640x480 with 1 Axes>"
      ]
     },
     "metadata": {},
     "output_type": "display_data"
    }
   ],
   "source": [
    "sns.countplot(df, x=df.Day)"
   ]
  },
  {
   "cell_type": "code",
   "execution_count": null,
   "id": "dde90a2b",
   "metadata": {},
   "outputs": [],
   "source": []
  },
  {
   "cell_type": "code",
   "execution_count": 95,
   "id": "59b5b0ad",
   "metadata": {},
   "outputs": [],
   "source": [
    "# Drop specified columns from the Pandas DataFrame 'df'.\n",
    "df.drop(['Date_of_Journey', 'Route', 'Dep_Time', 'Arrival_Time', 'Hours', 'minutes'], axis=1, inplace=True)"
   ]
  },
  {
   "cell_type": "code",
   "execution_count": null,
   "id": "5c8f3665",
   "metadata": {},
   "outputs": [],
   "source": []
  },
  {
   "cell_type": "code",
   "execution_count": 96,
   "id": "74e01911",
   "metadata": {},
   "outputs": [
    {
     "data": {
      "text/html": [
       "<div>\n",
       "<style scoped>\n",
       "    .dataframe tbody tr th:only-of-type {\n",
       "        vertical-align: middle;\n",
       "    }\n",
       "\n",
       "    .dataframe tbody tr th {\n",
       "        vertical-align: top;\n",
       "    }\n",
       "\n",
       "    .dataframe thead th {\n",
       "        text-align: right;\n",
       "    }\n",
       "</style>\n",
       "<table border=\"1\" class=\"dataframe\">\n",
       "  <thead>\n",
       "    <tr style=\"text-align: right;\">\n",
       "      <th></th>\n",
       "      <th>Airline</th>\n",
       "      <th>Source</th>\n",
       "      <th>Destination</th>\n",
       "      <th>Duration</th>\n",
       "      <th>Total_Stops</th>\n",
       "      <th>Additional_Info</th>\n",
       "      <th>Price</th>\n",
       "      <th>Month</th>\n",
       "      <th>Day</th>\n",
       "    </tr>\n",
       "  </thead>\n",
       "  <tbody>\n",
       "    <tr>\n",
       "      <th>0</th>\n",
       "      <td>IndiGo</td>\n",
       "      <td>Banglore</td>\n",
       "      <td>New Delhi</td>\n",
       "      <td>170</td>\n",
       "      <td>0</td>\n",
       "      <td>no info</td>\n",
       "      <td>3897</td>\n",
       "      <td>March</td>\n",
       "      <td>Sunday</td>\n",
       "    </tr>\n",
       "    <tr>\n",
       "      <th>1</th>\n",
       "      <td>Air India</td>\n",
       "      <td>Kolkata</td>\n",
       "      <td>Banglore</td>\n",
       "      <td>445</td>\n",
       "      <td>2</td>\n",
       "      <td>no info</td>\n",
       "      <td>7662</td>\n",
       "      <td>May</td>\n",
       "      <td>Wednesday</td>\n",
       "    </tr>\n",
       "    <tr>\n",
       "      <th>2</th>\n",
       "      <td>Jet Airways</td>\n",
       "      <td>Delhi</td>\n",
       "      <td>Cochin</td>\n",
       "      <td>1140</td>\n",
       "      <td>2</td>\n",
       "      <td>no info</td>\n",
       "      <td>13882</td>\n",
       "      <td>June</td>\n",
       "      <td>Sunday</td>\n",
       "    </tr>\n",
       "    <tr>\n",
       "      <th>3</th>\n",
       "      <td>IndiGo</td>\n",
       "      <td>Kolkata</td>\n",
       "      <td>Banglore</td>\n",
       "      <td>325</td>\n",
       "      <td>1</td>\n",
       "      <td>no info</td>\n",
       "      <td>6218</td>\n",
       "      <td>May</td>\n",
       "      <td>Sunday</td>\n",
       "    </tr>\n",
       "    <tr>\n",
       "      <th>4</th>\n",
       "      <td>IndiGo</td>\n",
       "      <td>Banglore</td>\n",
       "      <td>New Delhi</td>\n",
       "      <td>285</td>\n",
       "      <td>1</td>\n",
       "      <td>no info</td>\n",
       "      <td>13302</td>\n",
       "      <td>March</td>\n",
       "      <td>Friday</td>\n",
       "    </tr>\n",
       "    <tr>\n",
       "      <th>...</th>\n",
       "      <td>...</td>\n",
       "      <td>...</td>\n",
       "      <td>...</td>\n",
       "      <td>...</td>\n",
       "      <td>...</td>\n",
       "      <td>...</td>\n",
       "      <td>...</td>\n",
       "      <td>...</td>\n",
       "      <td>...</td>\n",
       "    </tr>\n",
       "    <tr>\n",
       "      <th>10423</th>\n",
       "      <td>Air Asia</td>\n",
       "      <td>Kolkata</td>\n",
       "      <td>Banglore</td>\n",
       "      <td>150</td>\n",
       "      <td>0</td>\n",
       "      <td>no info</td>\n",
       "      <td>4107</td>\n",
       "      <td>April</td>\n",
       "      <td>Tuesday</td>\n",
       "    </tr>\n",
       "    <tr>\n",
       "      <th>10424</th>\n",
       "      <td>Air India</td>\n",
       "      <td>Kolkata</td>\n",
       "      <td>Banglore</td>\n",
       "      <td>155</td>\n",
       "      <td>0</td>\n",
       "      <td>no info</td>\n",
       "      <td>4145</td>\n",
       "      <td>April</td>\n",
       "      <td>Saturday</td>\n",
       "    </tr>\n",
       "    <tr>\n",
       "      <th>10425</th>\n",
       "      <td>Jet Airways</td>\n",
       "      <td>Banglore</td>\n",
       "      <td>Delhi</td>\n",
       "      <td>180</td>\n",
       "      <td>0</td>\n",
       "      <td>no info</td>\n",
       "      <td>7229</td>\n",
       "      <td>April</td>\n",
       "      <td>Saturday</td>\n",
       "    </tr>\n",
       "    <tr>\n",
       "      <th>10426</th>\n",
       "      <td>Vistara</td>\n",
       "      <td>Banglore</td>\n",
       "      <td>New Delhi</td>\n",
       "      <td>160</td>\n",
       "      <td>0</td>\n",
       "      <td>no info</td>\n",
       "      <td>12648</td>\n",
       "      <td>March</td>\n",
       "      <td>Friday</td>\n",
       "    </tr>\n",
       "    <tr>\n",
       "      <th>10427</th>\n",
       "      <td>Air India</td>\n",
       "      <td>Delhi</td>\n",
       "      <td>Cochin</td>\n",
       "      <td>500</td>\n",
       "      <td>2</td>\n",
       "      <td>no info</td>\n",
       "      <td>11753</td>\n",
       "      <td>May</td>\n",
       "      <td>Thursday</td>\n",
       "    </tr>\n",
       "  </tbody>\n",
       "</table>\n",
       "<p>10428 rows × 9 columns</p>\n",
       "</div>"
      ],
      "text/plain": [
       "           Airline    Source Destination  Duration  Total_Stops  \\\n",
       "0           IndiGo  Banglore   New Delhi       170            0   \n",
       "1        Air India   Kolkata    Banglore       445            2   \n",
       "2      Jet Airways     Delhi      Cochin      1140            2   \n",
       "3           IndiGo   Kolkata    Banglore       325            1   \n",
       "4           IndiGo  Banglore   New Delhi       285            1   \n",
       "...            ...       ...         ...       ...          ...   \n",
       "10423     Air Asia   Kolkata    Banglore       150            0   \n",
       "10424    Air India   Kolkata    Banglore       155            0   \n",
       "10425  Jet Airways  Banglore       Delhi       180            0   \n",
       "10426      Vistara  Banglore   New Delhi       160            0   \n",
       "10427    Air India     Delhi      Cochin       500            2   \n",
       "\n",
       "      Additional_Info  Price  Month        Day  \n",
       "0             no info   3897  March     Sunday  \n",
       "1             no info   7662    May  Wednesday  \n",
       "2             no info  13882   June     Sunday  \n",
       "3             no info   6218    May     Sunday  \n",
       "4             no info  13302  March     Friday  \n",
       "...               ...    ...    ...        ...  \n",
       "10423         no info   4107  April    Tuesday  \n",
       "10424         no info   4145  April   Saturday  \n",
       "10425         no info   7229  April   Saturday  \n",
       "10426         no info  12648  March     Friday  \n",
       "10427         no info  11753    May   Thursday  \n",
       "\n",
       "[10428 rows x 9 columns]"
      ]
     },
     "execution_count": 96,
     "metadata": {},
     "output_type": "execute_result"
    }
   ],
   "source": [
    "df"
   ]
  },
  {
   "cell_type": "code",
   "execution_count": 97,
   "id": "676105e0",
   "metadata": {},
   "outputs": [
    {
     "data": {
      "text/plain": [
       "1510"
      ]
     },
     "execution_count": 97,
     "metadata": {},
     "output_type": "execute_result"
    }
   ],
   "source": [
    "# Calculate the total number of duplicated rows in the Pandas DataFrame 'df'.\n",
    "df.duplicated().sum()"
   ]
  },
  {
   "cell_type": "code",
   "execution_count": 98,
   "id": "0dc4e2ff",
   "metadata": {},
   "outputs": [],
   "source": [
    "# Remove duplicated rows from the DataFrame.\n",
    "df.drop_duplicates(inplace=True)\n",
    "\n",
    "# Reset the index of the DataFrame after removing duplicates and modify it in-place.\n",
    "df.reset_index(drop=True, inplace=True)"
   ]
  },
  {
   "cell_type": "code",
   "execution_count": null,
   "id": "98cb5819",
   "metadata": {},
   "outputs": [],
   "source": []
  },
  {
   "cell_type": "code",
   "execution_count": null,
   "id": "e0bcf12e",
   "metadata": {},
   "outputs": [],
   "source": []
  },
  {
   "cell_type": "code",
   "execution_count": 102,
   "id": "388d6ecc",
   "metadata": {},
   "outputs": [],
   "source": [
    "cols_to_encode = ['Airline', 'Source', 'Destination', 'Additional_Info', 'Month', 'Day']"
   ]
  },
  {
   "cell_type": "code",
   "execution_count": 103,
   "id": "e48dea75",
   "metadata": {},
   "outputs": [],
   "source": [
    "# Create a ColumnTransformer named 'encoder' using BinaryEncoder for specified columns and preserving other columns.\n",
    "encoder = ColumnTransformer(transformers=[('BE', BinaryEncoder(), cols_to_encode)], remainder='passthrough')"
   ]
  },
  {
   "cell_type": "code",
   "execution_count": 104,
   "id": "2a21b899",
   "metadata": {},
   "outputs": [],
   "source": [
    "# Separate the features (x) and target variable (y) in the Pandas DataFrame 'df'.\n",
    "x = df.drop('Price', axis=1)\n",
    "y = df['Price']"
   ]
  },
  {
   "cell_type": "code",
   "execution_count": null,
   "id": "b7836a7a",
   "metadata": {},
   "outputs": [],
   "source": []
  },
  {
   "cell_type": "code",
   "execution_count": 105,
   "id": "0928a6c9",
   "metadata": {},
   "outputs": [],
   "source": [
    "# Create a list of tuples, each containing a model name and its corresponding regression algorithm instance.\n",
    "models = []\n",
    "models.append(('LR', LinearRegression()))\n",
    "models.append(('KNN', KNeighborsRegressor()))\n",
    "#models.append(('SVR', SVR(gamma='auto')))\n",
    "models.append(('DT', DecisionTreeRegressor()))\n",
    "models.append(('RF', RandomForestRegressor()))\n",
    "models.append(('XGB', XGBRegressor()))"
   ]
  },
  {
   "cell_type": "code",
   "execution_count": null,
   "id": "10ffb0a3",
   "metadata": {},
   "outputs": [],
   "source": []
  },
  {
   "cell_type": "code",
   "execution_count": 106,
   "id": "2e938c4f",
   "metadata": {},
   "outputs": [
    {
     "name": "stdout",
     "output_type": "stream",
     "text": [
      "LR\n",
      "Train Acuracy : 0.5728154588642813\n",
      "Test Acuracy : 0.5718463718286025\n",
      "----------------------------------------------------------------------\n",
      "KNN\n",
      "Train Acuracy : 0.847219574853726\n",
      "Test Acuracy : 0.7650270972928737\n",
      "----------------------------------------------------------------------\n",
      "SVR\n",
      "Train Acuracy : 0.04426310923161179\n",
      "Test Acuracy : 0.04099686625865584\n",
      "----------------------------------------------------------------------\n",
      "DT\n",
      "Train Acuracy : 0.9551009935956619\n",
      "Test Acuracy : 0.6644308524773923\n",
      "----------------------------------------------------------------------\n",
      "RF\n",
      "Train Acuracy : 0.9380812590019734\n",
      "Test Acuracy : 0.7786199718232801\n",
      "----------------------------------------------------------------------\n",
      "XGB\n",
      "Train Acuracy : 0.9034079786427706\n",
      "Test Acuracy : 0.8133721800873779\n",
      "----------------------------------------------------------------------\n"
     ]
    }
   ],
   "source": [
    "# Iterate over regression models.\n",
    "for model in models:\n",
    "    # Create a list of pipeline steps, including encoding, scaling, and the current model.\n",
    "    steps = []\n",
    "    steps.append(('encoder', encoder))\n",
    "    steps.append(('scaler', RobustScaler()))\n",
    "    steps.append(model)\n",
    "    \n",
    "    # Create a pipeline with the specified steps.\n",
    "    pipeline = Pipeline(steps=steps)\n",
    "    \n",
    "    # Perform cross-validation and store the results in the 'result' variable.\n",
    "    result = cross_validate(pipeline, x, y, cv=5, scoring='r2', return_train_score=True, error_score='raise')\n",
    "    \n",
    "    # Print the name of the current model.\n",
    "    print(model[0])\n",
    "    \n",
    "    # Print the mean R-squared score for training data.\n",
    "    print(f\"Train Accuracy: {result['train_score'].mean()}\")\n",
    "    \n",
    "    # Print the mean R-squared score for testing data.\n",
    "    print(f\"Test Accuracy: {result['test_score'].mean()}\")\n",
    "    \n",
    "    # Print a line of dashes for separation.\n",
    "    print('-' * 70)\n"
   ]
  },
  {
   "cell_type": "code",
   "execution_count": null,
   "id": "2685d308",
   "metadata": {},
   "outputs": [],
   "source": []
  },
  {
   "cell_type": "code",
   "execution_count": 107,
   "id": "36d9da33",
   "metadata": {},
   "outputs": [],
   "source": [
    "# Create a list of pipeline steps, including encoding, scaling, and the XGBRegressor model.\n",
    "steps = []\n",
    "steps.append(('encoder', encoder))\n",
    "steps.append(('scaler', RobustScaler()))\n",
    "steps.append(('XGB', XGBRegressor()))\n",
    "\n",
    "# Create a pipeline with the specified steps.\n",
    "pipeline = Pipeline(steps=steps)"
   ]
  },
  {
   "cell_type": "code",
   "execution_count": 108,
   "id": "c2c24cdf",
   "metadata": {},
   "outputs": [
    {
     "data": {
      "text/html": [
       "<style>#sk-container-id-1 {color: black;background-color: white;}#sk-container-id-1 pre{padding: 0;}#sk-container-id-1 div.sk-toggleable {background-color: white;}#sk-container-id-1 label.sk-toggleable__label {cursor: pointer;display: block;width: 100%;margin-bottom: 0;padding: 0.3em;box-sizing: border-box;text-align: center;}#sk-container-id-1 label.sk-toggleable__label-arrow:before {content: \"▸\";float: left;margin-right: 0.25em;color: #696969;}#sk-container-id-1 label.sk-toggleable__label-arrow:hover:before {color: black;}#sk-container-id-1 div.sk-estimator:hover label.sk-toggleable__label-arrow:before {color: black;}#sk-container-id-1 div.sk-toggleable__content {max-height: 0;max-width: 0;overflow: hidden;text-align: left;background-color: #f0f8ff;}#sk-container-id-1 div.sk-toggleable__content pre {margin: 0.2em;color: black;border-radius: 0.25em;background-color: #f0f8ff;}#sk-container-id-1 input.sk-toggleable__control:checked~div.sk-toggleable__content {max-height: 200px;max-width: 100%;overflow: auto;}#sk-container-id-1 input.sk-toggleable__control:checked~label.sk-toggleable__label-arrow:before {content: \"▾\";}#sk-container-id-1 div.sk-estimator input.sk-toggleable__control:checked~label.sk-toggleable__label {background-color: #d4ebff;}#sk-container-id-1 div.sk-label input.sk-toggleable__control:checked~label.sk-toggleable__label {background-color: #d4ebff;}#sk-container-id-1 input.sk-hidden--visually {border: 0;clip: rect(1px 1px 1px 1px);clip: rect(1px, 1px, 1px, 1px);height: 1px;margin: -1px;overflow: hidden;padding: 0;position: absolute;width: 1px;}#sk-container-id-1 div.sk-estimator {font-family: monospace;background-color: #f0f8ff;border: 1px dotted black;border-radius: 0.25em;box-sizing: border-box;margin-bottom: 0.5em;}#sk-container-id-1 div.sk-estimator:hover {background-color: #d4ebff;}#sk-container-id-1 div.sk-parallel-item::after {content: \"\";width: 100%;border-bottom: 1px solid gray;flex-grow: 1;}#sk-container-id-1 div.sk-label:hover label.sk-toggleable__label {background-color: #d4ebff;}#sk-container-id-1 div.sk-serial::before {content: \"\";position: absolute;border-left: 1px solid gray;box-sizing: border-box;top: 0;bottom: 0;left: 50%;z-index: 0;}#sk-container-id-1 div.sk-serial {display: flex;flex-direction: column;align-items: center;background-color: white;padding-right: 0.2em;padding-left: 0.2em;position: relative;}#sk-container-id-1 div.sk-item {position: relative;z-index: 1;}#sk-container-id-1 div.sk-parallel {display: flex;align-items: stretch;justify-content: center;background-color: white;position: relative;}#sk-container-id-1 div.sk-item::before, #sk-container-id-1 div.sk-parallel-item::before {content: \"\";position: absolute;border-left: 1px solid gray;box-sizing: border-box;top: 0;bottom: 0;left: 50%;z-index: -1;}#sk-container-id-1 div.sk-parallel-item {display: flex;flex-direction: column;z-index: 1;position: relative;background-color: white;}#sk-container-id-1 div.sk-parallel-item:first-child::after {align-self: flex-end;width: 50%;}#sk-container-id-1 div.sk-parallel-item:last-child::after {align-self: flex-start;width: 50%;}#sk-container-id-1 div.sk-parallel-item:only-child::after {width: 0;}#sk-container-id-1 div.sk-dashed-wrapped {border: 1px dashed gray;margin: 0 0.4em 0.5em 0.4em;box-sizing: border-box;padding-bottom: 0.4em;background-color: white;}#sk-container-id-1 div.sk-label label {font-family: monospace;font-weight: bold;display: inline-block;line-height: 1.2em;}#sk-container-id-1 div.sk-label-container {text-align: center;}#sk-container-id-1 div.sk-container {/* jupyter's `normalize.less` sets `[hidden] { display: none; }` but bootstrap.min.css set `[hidden] { display: none !important; }` so we also need the `!important` here to be able to override the default hidden behavior on the sphinx rendered scikit-learn.org. See: https://github.com/scikit-learn/scikit-learn/issues/21755 */display: inline-block !important;position: relative;}#sk-container-id-1 div.sk-text-repr-fallback {display: none;}</style><div id=\"sk-container-id-1\" class=\"sk-top-container\"><div class=\"sk-text-repr-fallback\"><pre>Pipeline(steps=[(&#x27;encoder&#x27;,\n",
       "                 ColumnTransformer(remainder=&#x27;passthrough&#x27;,\n",
       "                                   transformers=[(&#x27;BE&#x27;, BinaryEncoder(),\n",
       "                                                  [&#x27;Airline&#x27;, &#x27;Source&#x27;,\n",
       "                                                   &#x27;Destination&#x27;,\n",
       "                                                   &#x27;Additional_Info&#x27;, &#x27;Month&#x27;,\n",
       "                                                   &#x27;Day&#x27;])])),\n",
       "                (&#x27;scaler&#x27;, RobustScaler()),\n",
       "                (&#x27;XGB&#x27;,\n",
       "                 XGBRegressor(base_score=None, booster=None, callbacks=None,\n",
       "                              colsample_bylevel=None, colsample_bynode=None,\n",
       "                              colsample_bytree=None, early_stopping_ro...\n",
       "                              feature_types=None, gamma=None, gpu_id=None,\n",
       "                              grow_policy=None, importance_type=None,\n",
       "                              interaction_constraints=None, learning_rate=None,\n",
       "                              max_bin=None, max_cat_threshold=None,\n",
       "                              max_cat_to_onehot=None, max_delta_step=None,\n",
       "                              max_depth=None, max_leaves=None,\n",
       "                              min_child_weight=None, missing=nan,\n",
       "                              monotone_constraints=None, n_estimators=100,\n",
       "                              n_jobs=None, num_parallel_tree=None,\n",
       "                              predictor=None, random_state=None, ...))])</pre><b>In a Jupyter environment, please rerun this cell to show the HTML representation or trust the notebook. <br />On GitHub, the HTML representation is unable to render, please try loading this page with nbviewer.org.</b></div><div class=\"sk-container\" hidden><div class=\"sk-item sk-dashed-wrapped\"><div class=\"sk-label-container\"><div class=\"sk-label sk-toggleable\"><input class=\"sk-toggleable__control sk-hidden--visually\" id=\"sk-estimator-id-1\" type=\"checkbox\" ><label for=\"sk-estimator-id-1\" class=\"sk-toggleable__label sk-toggleable__label-arrow\">Pipeline</label><div class=\"sk-toggleable__content\"><pre>Pipeline(steps=[(&#x27;encoder&#x27;,\n",
       "                 ColumnTransformer(remainder=&#x27;passthrough&#x27;,\n",
       "                                   transformers=[(&#x27;BE&#x27;, BinaryEncoder(),\n",
       "                                                  [&#x27;Airline&#x27;, &#x27;Source&#x27;,\n",
       "                                                   &#x27;Destination&#x27;,\n",
       "                                                   &#x27;Additional_Info&#x27;, &#x27;Month&#x27;,\n",
       "                                                   &#x27;Day&#x27;])])),\n",
       "                (&#x27;scaler&#x27;, RobustScaler()),\n",
       "                (&#x27;XGB&#x27;,\n",
       "                 XGBRegressor(base_score=None, booster=None, callbacks=None,\n",
       "                              colsample_bylevel=None, colsample_bynode=None,\n",
       "                              colsample_bytree=None, early_stopping_ro...\n",
       "                              feature_types=None, gamma=None, gpu_id=None,\n",
       "                              grow_policy=None, importance_type=None,\n",
       "                              interaction_constraints=None, learning_rate=None,\n",
       "                              max_bin=None, max_cat_threshold=None,\n",
       "                              max_cat_to_onehot=None, max_delta_step=None,\n",
       "                              max_depth=None, max_leaves=None,\n",
       "                              min_child_weight=None, missing=nan,\n",
       "                              monotone_constraints=None, n_estimators=100,\n",
       "                              n_jobs=None, num_parallel_tree=None,\n",
       "                              predictor=None, random_state=None, ...))])</pre></div></div></div><div class=\"sk-serial\"><div class=\"sk-item sk-dashed-wrapped\"><div class=\"sk-label-container\"><div class=\"sk-label sk-toggleable\"><input class=\"sk-toggleable__control sk-hidden--visually\" id=\"sk-estimator-id-2\" type=\"checkbox\" ><label for=\"sk-estimator-id-2\" class=\"sk-toggleable__label sk-toggleable__label-arrow\">encoder: ColumnTransformer</label><div class=\"sk-toggleable__content\"><pre>ColumnTransformer(remainder=&#x27;passthrough&#x27;,\n",
       "                  transformers=[(&#x27;BE&#x27;, BinaryEncoder(),\n",
       "                                 [&#x27;Airline&#x27;, &#x27;Source&#x27;, &#x27;Destination&#x27;,\n",
       "                                  &#x27;Additional_Info&#x27;, &#x27;Month&#x27;, &#x27;Day&#x27;])])</pre></div></div></div><div class=\"sk-parallel\"><div class=\"sk-parallel-item\"><div class=\"sk-item\"><div class=\"sk-label-container\"><div class=\"sk-label sk-toggleable\"><input class=\"sk-toggleable__control sk-hidden--visually\" id=\"sk-estimator-id-3\" type=\"checkbox\" ><label for=\"sk-estimator-id-3\" class=\"sk-toggleable__label sk-toggleable__label-arrow\">BE</label><div class=\"sk-toggleable__content\"><pre>[&#x27;Airline&#x27;, &#x27;Source&#x27;, &#x27;Destination&#x27;, &#x27;Additional_Info&#x27;, &#x27;Month&#x27;, &#x27;Day&#x27;]</pre></div></div></div><div class=\"sk-serial\"><div class=\"sk-item\"><div class=\"sk-estimator sk-toggleable\"><input class=\"sk-toggleable__control sk-hidden--visually\" id=\"sk-estimator-id-4\" type=\"checkbox\" ><label for=\"sk-estimator-id-4\" class=\"sk-toggleable__label sk-toggleable__label-arrow\">BinaryEncoder</label><div class=\"sk-toggleable__content\"><pre>BinaryEncoder()</pre></div></div></div></div></div></div><div class=\"sk-parallel-item\"><div class=\"sk-item\"><div class=\"sk-label-container\"><div class=\"sk-label sk-toggleable\"><input class=\"sk-toggleable__control sk-hidden--visually\" id=\"sk-estimator-id-5\" type=\"checkbox\" ><label for=\"sk-estimator-id-5\" class=\"sk-toggleable__label sk-toggleable__label-arrow\">remainder</label><div class=\"sk-toggleable__content\"><pre></pre></div></div></div><div class=\"sk-serial\"><div class=\"sk-item\"><div class=\"sk-estimator sk-toggleable\"><input class=\"sk-toggleable__control sk-hidden--visually\" id=\"sk-estimator-id-6\" type=\"checkbox\" ><label for=\"sk-estimator-id-6\" class=\"sk-toggleable__label sk-toggleable__label-arrow\">passthrough</label><div class=\"sk-toggleable__content\"><pre>passthrough</pre></div></div></div></div></div></div></div></div><div class=\"sk-item\"><div class=\"sk-estimator sk-toggleable\"><input class=\"sk-toggleable__control sk-hidden--visually\" id=\"sk-estimator-id-7\" type=\"checkbox\" ><label for=\"sk-estimator-id-7\" class=\"sk-toggleable__label sk-toggleable__label-arrow\">RobustScaler</label><div class=\"sk-toggleable__content\"><pre>RobustScaler()</pre></div></div></div><div class=\"sk-item\"><div class=\"sk-estimator sk-toggleable\"><input class=\"sk-toggleable__control sk-hidden--visually\" id=\"sk-estimator-id-8\" type=\"checkbox\" ><label for=\"sk-estimator-id-8\" class=\"sk-toggleable__label sk-toggleable__label-arrow\">XGBRegressor</label><div class=\"sk-toggleable__content\"><pre>XGBRegressor(base_score=None, booster=None, callbacks=None,\n",
       "             colsample_bylevel=None, colsample_bynode=None,\n",
       "             colsample_bytree=None, early_stopping_rounds=None,\n",
       "             enable_categorical=False, eval_metric=None, feature_types=None,\n",
       "             gamma=None, gpu_id=None, grow_policy=None, importance_type=None,\n",
       "             interaction_constraints=None, learning_rate=None, max_bin=None,\n",
       "             max_cat_threshold=None, max_cat_to_onehot=None,\n",
       "             max_delta_step=None, max_depth=None, max_leaves=None,\n",
       "             min_child_weight=None, missing=nan, monotone_constraints=None,\n",
       "             n_estimators=100, n_jobs=None, num_parallel_tree=None,\n",
       "             predictor=None, random_state=None, ...)</pre></div></div></div></div></div></div></div>"
      ],
      "text/plain": [
       "Pipeline(steps=[('encoder',\n",
       "                 ColumnTransformer(remainder='passthrough',\n",
       "                                   transformers=[('BE', BinaryEncoder(),\n",
       "                                                  ['Airline', 'Source',\n",
       "                                                   'Destination',\n",
       "                                                   'Additional_Info', 'Month',\n",
       "                                                   'Day'])])),\n",
       "                ('scaler', RobustScaler()),\n",
       "                ('XGB',\n",
       "                 XGBRegressor(base_score=None, booster=None, callbacks=None,\n",
       "                              colsample_bylevel=None, colsample_bynode=None,\n",
       "                              colsample_bytree=None, early_stopping_ro...\n",
       "                              feature_types=None, gamma=None, gpu_id=None,\n",
       "                              grow_policy=None, importance_type=None,\n",
       "                              interaction_constraints=None, learning_rate=None,\n",
       "                              max_bin=None, max_cat_threshold=None,\n",
       "                              max_cat_to_onehot=None, max_delta_step=None,\n",
       "                              max_depth=None, max_leaves=None,\n",
       "                              min_child_weight=None, missing=nan,\n",
       "                              monotone_constraints=None, n_estimators=100,\n",
       "                              n_jobs=None, num_parallel_tree=None,\n",
       "                              predictor=None, random_state=None, ...))])"
      ]
     },
     "execution_count": 108,
     "metadata": {},
     "output_type": "execute_result"
    }
   ],
   "source": [
    "pipeline"
   ]
  },
  {
   "cell_type": "code",
   "execution_count": null,
   "id": "cb82b276",
   "metadata": {},
   "outputs": [],
   "source": []
  },
  {
   "cell_type": "code",
   "execution_count": 124,
   "id": "02559007",
   "metadata": {},
   "outputs": [],
   "source": [
    "# Define a list of dictionaries containing hyperparameter grids for tuning the XGBRegressor model.\n",
    "params = [\n",
    "    {'XGB__n_estimators': range(75, 95), 'XGB__max_depth': [4, 5, 6, 7]}\n",
    "]"
   ]
  },
  {
   "cell_type": "code",
   "execution_count": 125,
   "id": "57474124",
   "metadata": {},
   "outputs": [],
   "source": [
    "# Create a GridSearchCV object using the specified pipeline, hyperparameter grid, and cross-validation settings.\n",
    "grid = GridSearchCV(estimator=pipeline, param_grid=params, cv=5, return_train_score=True, scoring='r2')"
   ]
  },
  {
   "cell_type": "code",
   "execution_count": 126,
   "id": "db6a21e8",
   "metadata": {},
   "outputs": [
    {
     "data": {
      "text/html": [
       "<style>#sk-container-id-5 {color: black;background-color: white;}#sk-container-id-5 pre{padding: 0;}#sk-container-id-5 div.sk-toggleable {background-color: white;}#sk-container-id-5 label.sk-toggleable__label {cursor: pointer;display: block;width: 100%;margin-bottom: 0;padding: 0.3em;box-sizing: border-box;text-align: center;}#sk-container-id-5 label.sk-toggleable__label-arrow:before {content: \"▸\";float: left;margin-right: 0.25em;color: #696969;}#sk-container-id-5 label.sk-toggleable__label-arrow:hover:before {color: black;}#sk-container-id-5 div.sk-estimator:hover label.sk-toggleable__label-arrow:before {color: black;}#sk-container-id-5 div.sk-toggleable__content {max-height: 0;max-width: 0;overflow: hidden;text-align: left;background-color: #f0f8ff;}#sk-container-id-5 div.sk-toggleable__content pre {margin: 0.2em;color: black;border-radius: 0.25em;background-color: #f0f8ff;}#sk-container-id-5 input.sk-toggleable__control:checked~div.sk-toggleable__content {max-height: 200px;max-width: 100%;overflow: auto;}#sk-container-id-5 input.sk-toggleable__control:checked~label.sk-toggleable__label-arrow:before {content: \"▾\";}#sk-container-id-5 div.sk-estimator input.sk-toggleable__control:checked~label.sk-toggleable__label {background-color: #d4ebff;}#sk-container-id-5 div.sk-label input.sk-toggleable__control:checked~label.sk-toggleable__label {background-color: #d4ebff;}#sk-container-id-5 input.sk-hidden--visually {border: 0;clip: rect(1px 1px 1px 1px);clip: rect(1px, 1px, 1px, 1px);height: 1px;margin: -1px;overflow: hidden;padding: 0;position: absolute;width: 1px;}#sk-container-id-5 div.sk-estimator {font-family: monospace;background-color: #f0f8ff;border: 1px dotted black;border-radius: 0.25em;box-sizing: border-box;margin-bottom: 0.5em;}#sk-container-id-5 div.sk-estimator:hover {background-color: #d4ebff;}#sk-container-id-5 div.sk-parallel-item::after {content: \"\";width: 100%;border-bottom: 1px solid gray;flex-grow: 1;}#sk-container-id-5 div.sk-label:hover label.sk-toggleable__label {background-color: #d4ebff;}#sk-container-id-5 div.sk-serial::before {content: \"\";position: absolute;border-left: 1px solid gray;box-sizing: border-box;top: 0;bottom: 0;left: 50%;z-index: 0;}#sk-container-id-5 div.sk-serial {display: flex;flex-direction: column;align-items: center;background-color: white;padding-right: 0.2em;padding-left: 0.2em;position: relative;}#sk-container-id-5 div.sk-item {position: relative;z-index: 1;}#sk-container-id-5 div.sk-parallel {display: flex;align-items: stretch;justify-content: center;background-color: white;position: relative;}#sk-container-id-5 div.sk-item::before, #sk-container-id-5 div.sk-parallel-item::before {content: \"\";position: absolute;border-left: 1px solid gray;box-sizing: border-box;top: 0;bottom: 0;left: 50%;z-index: -1;}#sk-container-id-5 div.sk-parallel-item {display: flex;flex-direction: column;z-index: 1;position: relative;background-color: white;}#sk-container-id-5 div.sk-parallel-item:first-child::after {align-self: flex-end;width: 50%;}#sk-container-id-5 div.sk-parallel-item:last-child::after {align-self: flex-start;width: 50%;}#sk-container-id-5 div.sk-parallel-item:only-child::after {width: 0;}#sk-container-id-5 div.sk-dashed-wrapped {border: 1px dashed gray;margin: 0 0.4em 0.5em 0.4em;box-sizing: border-box;padding-bottom: 0.4em;background-color: white;}#sk-container-id-5 div.sk-label label {font-family: monospace;font-weight: bold;display: inline-block;line-height: 1.2em;}#sk-container-id-5 div.sk-label-container {text-align: center;}#sk-container-id-5 div.sk-container {/* jupyter's `normalize.less` sets `[hidden] { display: none; }` but bootstrap.min.css set `[hidden] { display: none !important; }` so we also need the `!important` here to be able to override the default hidden behavior on the sphinx rendered scikit-learn.org. See: https://github.com/scikit-learn/scikit-learn/issues/21755 */display: inline-block !important;position: relative;}#sk-container-id-5 div.sk-text-repr-fallback {display: none;}</style><div id=\"sk-container-id-5\" class=\"sk-top-container\"><div class=\"sk-text-repr-fallback\"><pre>GridSearchCV(cv=5,\n",
       "             estimator=Pipeline(steps=[(&#x27;encoder&#x27;,\n",
       "                                        ColumnTransformer(remainder=&#x27;passthrough&#x27;,\n",
       "                                                          transformers=[(&#x27;BE&#x27;,\n",
       "                                                                         BinaryEncoder(),\n",
       "                                                                         [&#x27;Airline&#x27;,\n",
       "                                                                          &#x27;Source&#x27;,\n",
       "                                                                          &#x27;Destination&#x27;,\n",
       "                                                                          &#x27;Additional_Info&#x27;,\n",
       "                                                                          &#x27;Month&#x27;,\n",
       "                                                                          &#x27;Day&#x27;])])),\n",
       "                                       (&#x27;scaler&#x27;, RobustScaler()),\n",
       "                                       (&#x27;XGB&#x27;,\n",
       "                                        XGBRegressor(base_score=None,\n",
       "                                                     booster=None,\n",
       "                                                     callbacks=None,\n",
       "                                                     colsample_bylevel=None,\n",
       "                                                     colsample_bynode=None,\n",
       "                                                     colsample_b...\n",
       "                                                     max_cat_threshold=None,\n",
       "                                                     max_cat_to_onehot=None,\n",
       "                                                     max_delta_step=None,\n",
       "                                                     max_depth=None,\n",
       "                                                     max_leaves=None,\n",
       "                                                     min_child_weight=None,\n",
       "                                                     missing=nan,\n",
       "                                                     monotone_constraints=None,\n",
       "                                                     n_estimators=100,\n",
       "                                                     n_jobs=None,\n",
       "                                                     num_parallel_tree=None,\n",
       "                                                     predictor=None,\n",
       "                                                     random_state=None, ...))]),\n",
       "             param_grid=[{&#x27;XGB__max_depth&#x27;: [6, 7],\n",
       "                          &#x27;XGB__n_estimators&#x27;: range(80, 85)}],\n",
       "             return_train_score=True, scoring=&#x27;r2&#x27;)</pre><b>In a Jupyter environment, please rerun this cell to show the HTML representation or trust the notebook. <br />On GitHub, the HTML representation is unable to render, please try loading this page with nbviewer.org.</b></div><div class=\"sk-container\" hidden><div class=\"sk-item sk-dashed-wrapped\"><div class=\"sk-label-container\"><div class=\"sk-label sk-toggleable\"><input class=\"sk-toggleable__control sk-hidden--visually\" id=\"sk-estimator-id-36\" type=\"checkbox\" ><label for=\"sk-estimator-id-36\" class=\"sk-toggleable__label sk-toggleable__label-arrow\">GridSearchCV</label><div class=\"sk-toggleable__content\"><pre>GridSearchCV(cv=5,\n",
       "             estimator=Pipeline(steps=[(&#x27;encoder&#x27;,\n",
       "                                        ColumnTransformer(remainder=&#x27;passthrough&#x27;,\n",
       "                                                          transformers=[(&#x27;BE&#x27;,\n",
       "                                                                         BinaryEncoder(),\n",
       "                                                                         [&#x27;Airline&#x27;,\n",
       "                                                                          &#x27;Source&#x27;,\n",
       "                                                                          &#x27;Destination&#x27;,\n",
       "                                                                          &#x27;Additional_Info&#x27;,\n",
       "                                                                          &#x27;Month&#x27;,\n",
       "                                                                          &#x27;Day&#x27;])])),\n",
       "                                       (&#x27;scaler&#x27;, RobustScaler()),\n",
       "                                       (&#x27;XGB&#x27;,\n",
       "                                        XGBRegressor(base_score=None,\n",
       "                                                     booster=None,\n",
       "                                                     callbacks=None,\n",
       "                                                     colsample_bylevel=None,\n",
       "                                                     colsample_bynode=None,\n",
       "                                                     colsample_b...\n",
       "                                                     max_cat_threshold=None,\n",
       "                                                     max_cat_to_onehot=None,\n",
       "                                                     max_delta_step=None,\n",
       "                                                     max_depth=None,\n",
       "                                                     max_leaves=None,\n",
       "                                                     min_child_weight=None,\n",
       "                                                     missing=nan,\n",
       "                                                     monotone_constraints=None,\n",
       "                                                     n_estimators=100,\n",
       "                                                     n_jobs=None,\n",
       "                                                     num_parallel_tree=None,\n",
       "                                                     predictor=None,\n",
       "                                                     random_state=None, ...))]),\n",
       "             param_grid=[{&#x27;XGB__max_depth&#x27;: [6, 7],\n",
       "                          &#x27;XGB__n_estimators&#x27;: range(80, 85)}],\n",
       "             return_train_score=True, scoring=&#x27;r2&#x27;)</pre></div></div></div><div class=\"sk-parallel\"><div class=\"sk-parallel-item\"><div class=\"sk-item\"><div class=\"sk-label-container\"><div class=\"sk-label sk-toggleable\"><input class=\"sk-toggleable__control sk-hidden--visually\" id=\"sk-estimator-id-37\" type=\"checkbox\" ><label for=\"sk-estimator-id-37\" class=\"sk-toggleable__label sk-toggleable__label-arrow\">estimator: Pipeline</label><div class=\"sk-toggleable__content\"><pre>Pipeline(steps=[(&#x27;encoder&#x27;,\n",
       "                 ColumnTransformer(remainder=&#x27;passthrough&#x27;,\n",
       "                                   transformers=[(&#x27;BE&#x27;, BinaryEncoder(),\n",
       "                                                  [&#x27;Airline&#x27;, &#x27;Source&#x27;,\n",
       "                                                   &#x27;Destination&#x27;,\n",
       "                                                   &#x27;Additional_Info&#x27;, &#x27;Month&#x27;,\n",
       "                                                   &#x27;Day&#x27;])])),\n",
       "                (&#x27;scaler&#x27;, RobustScaler()),\n",
       "                (&#x27;XGB&#x27;,\n",
       "                 XGBRegressor(base_score=None, booster=None, callbacks=None,\n",
       "                              colsample_bylevel=None, colsample_bynode=None,\n",
       "                              colsample_bytree=None, early_stopping_ro...\n",
       "                              feature_types=None, gamma=None, gpu_id=None,\n",
       "                              grow_policy=None, importance_type=None,\n",
       "                              interaction_constraints=None, learning_rate=None,\n",
       "                              max_bin=None, max_cat_threshold=None,\n",
       "                              max_cat_to_onehot=None, max_delta_step=None,\n",
       "                              max_depth=None, max_leaves=None,\n",
       "                              min_child_weight=None, missing=nan,\n",
       "                              monotone_constraints=None, n_estimators=100,\n",
       "                              n_jobs=None, num_parallel_tree=None,\n",
       "                              predictor=None, random_state=None, ...))])</pre></div></div></div><div class=\"sk-serial\"><div class=\"sk-item\"><div class=\"sk-serial\"><div class=\"sk-item sk-dashed-wrapped\"><div class=\"sk-label-container\"><div class=\"sk-label sk-toggleable\"><input class=\"sk-toggleable__control sk-hidden--visually\" id=\"sk-estimator-id-38\" type=\"checkbox\" ><label for=\"sk-estimator-id-38\" class=\"sk-toggleable__label sk-toggleable__label-arrow\">encoder: ColumnTransformer</label><div class=\"sk-toggleable__content\"><pre>ColumnTransformer(remainder=&#x27;passthrough&#x27;,\n",
       "                  transformers=[(&#x27;BE&#x27;, BinaryEncoder(),\n",
       "                                 [&#x27;Airline&#x27;, &#x27;Source&#x27;, &#x27;Destination&#x27;,\n",
       "                                  &#x27;Additional_Info&#x27;, &#x27;Month&#x27;, &#x27;Day&#x27;])])</pre></div></div></div><div class=\"sk-parallel\"><div class=\"sk-parallel-item\"><div class=\"sk-item\"><div class=\"sk-label-container\"><div class=\"sk-label sk-toggleable\"><input class=\"sk-toggleable__control sk-hidden--visually\" id=\"sk-estimator-id-39\" type=\"checkbox\" ><label for=\"sk-estimator-id-39\" class=\"sk-toggleable__label sk-toggleable__label-arrow\">BE</label><div class=\"sk-toggleable__content\"><pre>[&#x27;Airline&#x27;, &#x27;Source&#x27;, &#x27;Destination&#x27;, &#x27;Additional_Info&#x27;, &#x27;Month&#x27;, &#x27;Day&#x27;]</pre></div></div></div><div class=\"sk-serial\"><div class=\"sk-item\"><div class=\"sk-estimator sk-toggleable\"><input class=\"sk-toggleable__control sk-hidden--visually\" id=\"sk-estimator-id-40\" type=\"checkbox\" ><label for=\"sk-estimator-id-40\" class=\"sk-toggleable__label sk-toggleable__label-arrow\">BinaryEncoder</label><div class=\"sk-toggleable__content\"><pre>BinaryEncoder()</pre></div></div></div></div></div></div><div class=\"sk-parallel-item\"><div class=\"sk-item\"><div class=\"sk-label-container\"><div class=\"sk-label sk-toggleable\"><input class=\"sk-toggleable__control sk-hidden--visually\" id=\"sk-estimator-id-41\" type=\"checkbox\" ><label for=\"sk-estimator-id-41\" class=\"sk-toggleable__label sk-toggleable__label-arrow\">remainder</label><div class=\"sk-toggleable__content\"><pre></pre></div></div></div><div class=\"sk-serial\"><div class=\"sk-item\"><div class=\"sk-estimator sk-toggleable\"><input class=\"sk-toggleable__control sk-hidden--visually\" id=\"sk-estimator-id-42\" type=\"checkbox\" ><label for=\"sk-estimator-id-42\" class=\"sk-toggleable__label sk-toggleable__label-arrow\">passthrough</label><div class=\"sk-toggleable__content\"><pre>passthrough</pre></div></div></div></div></div></div></div></div><div class=\"sk-item\"><div class=\"sk-estimator sk-toggleable\"><input class=\"sk-toggleable__control sk-hidden--visually\" id=\"sk-estimator-id-43\" type=\"checkbox\" ><label for=\"sk-estimator-id-43\" class=\"sk-toggleable__label sk-toggleable__label-arrow\">RobustScaler</label><div class=\"sk-toggleable__content\"><pre>RobustScaler()</pre></div></div></div><div class=\"sk-item\"><div class=\"sk-estimator sk-toggleable\"><input class=\"sk-toggleable__control sk-hidden--visually\" id=\"sk-estimator-id-44\" type=\"checkbox\" ><label for=\"sk-estimator-id-44\" class=\"sk-toggleable__label sk-toggleable__label-arrow\">XGBRegressor</label><div class=\"sk-toggleable__content\"><pre>XGBRegressor(base_score=None, booster=None, callbacks=None,\n",
       "             colsample_bylevel=None, colsample_bynode=None,\n",
       "             colsample_bytree=None, early_stopping_rounds=None,\n",
       "             enable_categorical=False, eval_metric=None, feature_types=None,\n",
       "             gamma=None, gpu_id=None, grow_policy=None, importance_type=None,\n",
       "             interaction_constraints=None, learning_rate=None, max_bin=None,\n",
       "             max_cat_threshold=None, max_cat_to_onehot=None,\n",
       "             max_delta_step=None, max_depth=None, max_leaves=None,\n",
       "             min_child_weight=None, missing=nan, monotone_constraints=None,\n",
       "             n_estimators=100, n_jobs=None, num_parallel_tree=None,\n",
       "             predictor=None, random_state=None, ...)</pre></div></div></div></div></div></div></div></div></div></div></div></div>"
      ],
      "text/plain": [
       "GridSearchCV(cv=5,\n",
       "             estimator=Pipeline(steps=[('encoder',\n",
       "                                        ColumnTransformer(remainder='passthrough',\n",
       "                                                          transformers=[('BE',\n",
       "                                                                         BinaryEncoder(),\n",
       "                                                                         ['Airline',\n",
       "                                                                          'Source',\n",
       "                                                                          'Destination',\n",
       "                                                                          'Additional_Info',\n",
       "                                                                          'Month',\n",
       "                                                                          'Day'])])),\n",
       "                                       ('scaler', RobustScaler()),\n",
       "                                       ('XGB',\n",
       "                                        XGBRegressor(base_score=None,\n",
       "                                                     booster=None,\n",
       "                                                     callbacks=None,\n",
       "                                                     colsample_bylevel=None,\n",
       "                                                     colsample_bynode=None,\n",
       "                                                     colsample_b...\n",
       "                                                     max_cat_threshold=None,\n",
       "                                                     max_cat_to_onehot=None,\n",
       "                                                     max_delta_step=None,\n",
       "                                                     max_depth=None,\n",
       "                                                     max_leaves=None,\n",
       "                                                     min_child_weight=None,\n",
       "                                                     missing=nan,\n",
       "                                                     monotone_constraints=None,\n",
       "                                                     n_estimators=100,\n",
       "                                                     n_jobs=None,\n",
       "                                                     num_parallel_tree=None,\n",
       "                                                     predictor=None,\n",
       "                                                     random_state=None, ...))]),\n",
       "             param_grid=[{'XGB__max_depth': [6, 7],\n",
       "                          'XGB__n_estimators': range(80, 85)}],\n",
       "             return_train_score=True, scoring='r2')"
      ]
     },
     "execution_count": 126,
     "metadata": {},
     "output_type": "execute_result"
    }
   ],
   "source": [
    "# Fit the GridSearchCV object to the features 'x' and target variable 'y'.\n",
    "grid.fit(x, y)"
   ]
  },
  {
   "cell_type": "code",
   "execution_count": 127,
   "id": "2edd221c",
   "metadata": {},
   "outputs": [
    {
     "data": {
      "text/plain": [
       "{'XGB__max_depth': 6, 'XGB__n_estimators': 82}"
      ]
     },
     "execution_count": 127,
     "metadata": {},
     "output_type": "execute_result"
    }
   ],
   "source": [
    "# Retrieve the best hyperparameters from the GridSearchCV results.\n",
    "grid.best_params_"
   ]
  },
  {
   "cell_type": "code",
   "execution_count": 128,
   "id": "3f2c2851",
   "metadata": {},
   "outputs": [
    {
     "data": {
      "text/plain": [
       "0.9200352264672407"
      ]
     },
     "execution_count": 128,
     "metadata": {},
     "output_type": "execute_result"
    }
   ],
   "source": [
    "# Retrieve the maximum mean training score from the cross-validation results in the GridSearchCV object.\n",
    "grid.cv_results_[\"mean_train_score\"].max()"
   ]
  },
  {
   "cell_type": "code",
   "execution_count": 129,
   "id": "b0dae90b",
   "metadata": {},
   "outputs": [
    {
     "data": {
      "text/plain": [
       "0.8153689461162898"
      ]
     },
     "execution_count": 129,
     "metadata": {},
     "output_type": "execute_result"
    }
   ],
   "source": [
    "# Retrieve the maximum mean test score from the cross-validation results in the GridSearchCV object.\n",
    "grid.cv_results_['mean_test_score'].max()"
   ]
  },
  {
   "cell_type": "code",
   "execution_count": 130,
   "id": "d99c7498",
   "metadata": {},
   "outputs": [],
   "source": [
    "# Create a list of pipeline steps with specific hyperparameters for the XGBRegressor model.\n",
    "steps = []\n",
    "steps.append(('encoder', encoder))\n",
    "steps.append(('scaler', RobustScaler()))\n",
    "steps.append(('XGB', XGBRegressor(n_estimators=82, max_depth=6)))\n",
    "\n",
    "# Create a pipeline with the specified steps and hyperparameters.\n",
    "pipeline = Pipeline(steps=steps)"
   ]
  },
  {
   "cell_type": "code",
   "execution_count": 131,
   "id": "ddd38efd",
   "metadata": {},
   "outputs": [
    {
     "data": {
      "text/html": [
       "<style>#sk-container-id-6 {color: black;background-color: white;}#sk-container-id-6 pre{padding: 0;}#sk-container-id-6 div.sk-toggleable {background-color: white;}#sk-container-id-6 label.sk-toggleable__label {cursor: pointer;display: block;width: 100%;margin-bottom: 0;padding: 0.3em;box-sizing: border-box;text-align: center;}#sk-container-id-6 label.sk-toggleable__label-arrow:before {content: \"▸\";float: left;margin-right: 0.25em;color: #696969;}#sk-container-id-6 label.sk-toggleable__label-arrow:hover:before {color: black;}#sk-container-id-6 div.sk-estimator:hover label.sk-toggleable__label-arrow:before {color: black;}#sk-container-id-6 div.sk-toggleable__content {max-height: 0;max-width: 0;overflow: hidden;text-align: left;background-color: #f0f8ff;}#sk-container-id-6 div.sk-toggleable__content pre {margin: 0.2em;color: black;border-radius: 0.25em;background-color: #f0f8ff;}#sk-container-id-6 input.sk-toggleable__control:checked~div.sk-toggleable__content {max-height: 200px;max-width: 100%;overflow: auto;}#sk-container-id-6 input.sk-toggleable__control:checked~label.sk-toggleable__label-arrow:before {content: \"▾\";}#sk-container-id-6 div.sk-estimator input.sk-toggleable__control:checked~label.sk-toggleable__label {background-color: #d4ebff;}#sk-container-id-6 div.sk-label input.sk-toggleable__control:checked~label.sk-toggleable__label {background-color: #d4ebff;}#sk-container-id-6 input.sk-hidden--visually {border: 0;clip: rect(1px 1px 1px 1px);clip: rect(1px, 1px, 1px, 1px);height: 1px;margin: -1px;overflow: hidden;padding: 0;position: absolute;width: 1px;}#sk-container-id-6 div.sk-estimator {font-family: monospace;background-color: #f0f8ff;border: 1px dotted black;border-radius: 0.25em;box-sizing: border-box;margin-bottom: 0.5em;}#sk-container-id-6 div.sk-estimator:hover {background-color: #d4ebff;}#sk-container-id-6 div.sk-parallel-item::after {content: \"\";width: 100%;border-bottom: 1px solid gray;flex-grow: 1;}#sk-container-id-6 div.sk-label:hover label.sk-toggleable__label {background-color: #d4ebff;}#sk-container-id-6 div.sk-serial::before {content: \"\";position: absolute;border-left: 1px solid gray;box-sizing: border-box;top: 0;bottom: 0;left: 50%;z-index: 0;}#sk-container-id-6 div.sk-serial {display: flex;flex-direction: column;align-items: center;background-color: white;padding-right: 0.2em;padding-left: 0.2em;position: relative;}#sk-container-id-6 div.sk-item {position: relative;z-index: 1;}#sk-container-id-6 div.sk-parallel {display: flex;align-items: stretch;justify-content: center;background-color: white;position: relative;}#sk-container-id-6 div.sk-item::before, #sk-container-id-6 div.sk-parallel-item::before {content: \"\";position: absolute;border-left: 1px solid gray;box-sizing: border-box;top: 0;bottom: 0;left: 50%;z-index: -1;}#sk-container-id-6 div.sk-parallel-item {display: flex;flex-direction: column;z-index: 1;position: relative;background-color: white;}#sk-container-id-6 div.sk-parallel-item:first-child::after {align-self: flex-end;width: 50%;}#sk-container-id-6 div.sk-parallel-item:last-child::after {align-self: flex-start;width: 50%;}#sk-container-id-6 div.sk-parallel-item:only-child::after {width: 0;}#sk-container-id-6 div.sk-dashed-wrapped {border: 1px dashed gray;margin: 0 0.4em 0.5em 0.4em;box-sizing: border-box;padding-bottom: 0.4em;background-color: white;}#sk-container-id-6 div.sk-label label {font-family: monospace;font-weight: bold;display: inline-block;line-height: 1.2em;}#sk-container-id-6 div.sk-label-container {text-align: center;}#sk-container-id-6 div.sk-container {/* jupyter's `normalize.less` sets `[hidden] { display: none; }` but bootstrap.min.css set `[hidden] { display: none !important; }` so we also need the `!important` here to be able to override the default hidden behavior on the sphinx rendered scikit-learn.org. See: https://github.com/scikit-learn/scikit-learn/issues/21755 */display: inline-block !important;position: relative;}#sk-container-id-6 div.sk-text-repr-fallback {display: none;}</style><div id=\"sk-container-id-6\" class=\"sk-top-container\"><div class=\"sk-text-repr-fallback\"><pre>Pipeline(steps=[(&#x27;encoder&#x27;,\n",
       "                 ColumnTransformer(remainder=&#x27;passthrough&#x27;,\n",
       "                                   transformers=[(&#x27;BE&#x27;, BinaryEncoder(),\n",
       "                                                  [&#x27;Airline&#x27;, &#x27;Source&#x27;,\n",
       "                                                   &#x27;Destination&#x27;,\n",
       "                                                   &#x27;Additional_Info&#x27;, &#x27;Month&#x27;,\n",
       "                                                   &#x27;Day&#x27;])])),\n",
       "                (&#x27;scaler&#x27;, RobustScaler()),\n",
       "                (&#x27;XGB&#x27;,\n",
       "                 XGBRegressor(base_score=None, booster=None, callbacks=None,\n",
       "                              colsample_bylevel=None, colsample_bynode=None,\n",
       "                              colsample_bytree=None, early_stopping_ro...\n",
       "                              feature_types=None, gamma=None, gpu_id=None,\n",
       "                              grow_policy=None, importance_type=None,\n",
       "                              interaction_constraints=None, learning_rate=None,\n",
       "                              max_bin=None, max_cat_threshold=None,\n",
       "                              max_cat_to_onehot=None, max_delta_step=None,\n",
       "                              max_depth=6, max_leaves=None,\n",
       "                              min_child_weight=None, missing=nan,\n",
       "                              monotone_constraints=None, n_estimators=82,\n",
       "                              n_jobs=None, num_parallel_tree=None,\n",
       "                              predictor=None, random_state=None, ...))])</pre><b>In a Jupyter environment, please rerun this cell to show the HTML representation or trust the notebook. <br />On GitHub, the HTML representation is unable to render, please try loading this page with nbviewer.org.</b></div><div class=\"sk-container\" hidden><div class=\"sk-item sk-dashed-wrapped\"><div class=\"sk-label-container\"><div class=\"sk-label sk-toggleable\"><input class=\"sk-toggleable__control sk-hidden--visually\" id=\"sk-estimator-id-45\" type=\"checkbox\" ><label for=\"sk-estimator-id-45\" class=\"sk-toggleable__label sk-toggleable__label-arrow\">Pipeline</label><div class=\"sk-toggleable__content\"><pre>Pipeline(steps=[(&#x27;encoder&#x27;,\n",
       "                 ColumnTransformer(remainder=&#x27;passthrough&#x27;,\n",
       "                                   transformers=[(&#x27;BE&#x27;, BinaryEncoder(),\n",
       "                                                  [&#x27;Airline&#x27;, &#x27;Source&#x27;,\n",
       "                                                   &#x27;Destination&#x27;,\n",
       "                                                   &#x27;Additional_Info&#x27;, &#x27;Month&#x27;,\n",
       "                                                   &#x27;Day&#x27;])])),\n",
       "                (&#x27;scaler&#x27;, RobustScaler()),\n",
       "                (&#x27;XGB&#x27;,\n",
       "                 XGBRegressor(base_score=None, booster=None, callbacks=None,\n",
       "                              colsample_bylevel=None, colsample_bynode=None,\n",
       "                              colsample_bytree=None, early_stopping_ro...\n",
       "                              feature_types=None, gamma=None, gpu_id=None,\n",
       "                              grow_policy=None, importance_type=None,\n",
       "                              interaction_constraints=None, learning_rate=None,\n",
       "                              max_bin=None, max_cat_threshold=None,\n",
       "                              max_cat_to_onehot=None, max_delta_step=None,\n",
       "                              max_depth=6, max_leaves=None,\n",
       "                              min_child_weight=None, missing=nan,\n",
       "                              monotone_constraints=None, n_estimators=82,\n",
       "                              n_jobs=None, num_parallel_tree=None,\n",
       "                              predictor=None, random_state=None, ...))])</pre></div></div></div><div class=\"sk-serial\"><div class=\"sk-item sk-dashed-wrapped\"><div class=\"sk-label-container\"><div class=\"sk-label sk-toggleable\"><input class=\"sk-toggleable__control sk-hidden--visually\" id=\"sk-estimator-id-46\" type=\"checkbox\" ><label for=\"sk-estimator-id-46\" class=\"sk-toggleable__label sk-toggleable__label-arrow\">encoder: ColumnTransformer</label><div class=\"sk-toggleable__content\"><pre>ColumnTransformer(remainder=&#x27;passthrough&#x27;,\n",
       "                  transformers=[(&#x27;BE&#x27;, BinaryEncoder(),\n",
       "                                 [&#x27;Airline&#x27;, &#x27;Source&#x27;, &#x27;Destination&#x27;,\n",
       "                                  &#x27;Additional_Info&#x27;, &#x27;Month&#x27;, &#x27;Day&#x27;])])</pre></div></div></div><div class=\"sk-parallel\"><div class=\"sk-parallel-item\"><div class=\"sk-item\"><div class=\"sk-label-container\"><div class=\"sk-label sk-toggleable\"><input class=\"sk-toggleable__control sk-hidden--visually\" id=\"sk-estimator-id-47\" type=\"checkbox\" ><label for=\"sk-estimator-id-47\" class=\"sk-toggleable__label sk-toggleable__label-arrow\">BE</label><div class=\"sk-toggleable__content\"><pre>[&#x27;Airline&#x27;, &#x27;Source&#x27;, &#x27;Destination&#x27;, &#x27;Additional_Info&#x27;, &#x27;Month&#x27;, &#x27;Day&#x27;]</pre></div></div></div><div class=\"sk-serial\"><div class=\"sk-item\"><div class=\"sk-estimator sk-toggleable\"><input class=\"sk-toggleable__control sk-hidden--visually\" id=\"sk-estimator-id-48\" type=\"checkbox\" ><label for=\"sk-estimator-id-48\" class=\"sk-toggleable__label sk-toggleable__label-arrow\">BinaryEncoder</label><div class=\"sk-toggleable__content\"><pre>BinaryEncoder()</pre></div></div></div></div></div></div><div class=\"sk-parallel-item\"><div class=\"sk-item\"><div class=\"sk-label-container\"><div class=\"sk-label sk-toggleable\"><input class=\"sk-toggleable__control sk-hidden--visually\" id=\"sk-estimator-id-49\" type=\"checkbox\" ><label for=\"sk-estimator-id-49\" class=\"sk-toggleable__label sk-toggleable__label-arrow\">remainder</label><div class=\"sk-toggleable__content\"><pre>[&#x27;Duration&#x27;, &#x27;Total_Stops&#x27;]</pre></div></div></div><div class=\"sk-serial\"><div class=\"sk-item\"><div class=\"sk-estimator sk-toggleable\"><input class=\"sk-toggleable__control sk-hidden--visually\" id=\"sk-estimator-id-50\" type=\"checkbox\" ><label for=\"sk-estimator-id-50\" class=\"sk-toggleable__label sk-toggleable__label-arrow\">passthrough</label><div class=\"sk-toggleable__content\"><pre>passthrough</pre></div></div></div></div></div></div></div></div><div class=\"sk-item\"><div class=\"sk-estimator sk-toggleable\"><input class=\"sk-toggleable__control sk-hidden--visually\" id=\"sk-estimator-id-51\" type=\"checkbox\" ><label for=\"sk-estimator-id-51\" class=\"sk-toggleable__label sk-toggleable__label-arrow\">RobustScaler</label><div class=\"sk-toggleable__content\"><pre>RobustScaler()</pre></div></div></div><div class=\"sk-item\"><div class=\"sk-estimator sk-toggleable\"><input class=\"sk-toggleable__control sk-hidden--visually\" id=\"sk-estimator-id-52\" type=\"checkbox\" ><label for=\"sk-estimator-id-52\" class=\"sk-toggleable__label sk-toggleable__label-arrow\">XGBRegressor</label><div class=\"sk-toggleable__content\"><pre>XGBRegressor(base_score=None, booster=None, callbacks=None,\n",
       "             colsample_bylevel=None, colsample_bynode=None,\n",
       "             colsample_bytree=None, early_stopping_rounds=None,\n",
       "             enable_categorical=False, eval_metric=None, feature_types=None,\n",
       "             gamma=None, gpu_id=None, grow_policy=None, importance_type=None,\n",
       "             interaction_constraints=None, learning_rate=None, max_bin=None,\n",
       "             max_cat_threshold=None, max_cat_to_onehot=None,\n",
       "             max_delta_step=None, max_depth=6, max_leaves=None,\n",
       "             min_child_weight=None, missing=nan, monotone_constraints=None,\n",
       "             n_estimators=82, n_jobs=None, num_parallel_tree=None,\n",
       "             predictor=None, random_state=None, ...)</pre></div></div></div></div></div></div></div>"
      ],
      "text/plain": [
       "Pipeline(steps=[('encoder',\n",
       "                 ColumnTransformer(remainder='passthrough',\n",
       "                                   transformers=[('BE', BinaryEncoder(),\n",
       "                                                  ['Airline', 'Source',\n",
       "                                                   'Destination',\n",
       "                                                   'Additional_Info', 'Month',\n",
       "                                                   'Day'])])),\n",
       "                ('scaler', RobustScaler()),\n",
       "                ('XGB',\n",
       "                 XGBRegressor(base_score=None, booster=None, callbacks=None,\n",
       "                              colsample_bylevel=None, colsample_bynode=None,\n",
       "                              colsample_bytree=None, early_stopping_ro...\n",
       "                              feature_types=None, gamma=None, gpu_id=None,\n",
       "                              grow_policy=None, importance_type=None,\n",
       "                              interaction_constraints=None, learning_rate=None,\n",
       "                              max_bin=None, max_cat_threshold=None,\n",
       "                              max_cat_to_onehot=None, max_delta_step=None,\n",
       "                              max_depth=6, max_leaves=None,\n",
       "                              min_child_weight=None, missing=nan,\n",
       "                              monotone_constraints=None, n_estimators=82,\n",
       "                              n_jobs=None, num_parallel_tree=None,\n",
       "                              predictor=None, random_state=None, ...))])"
      ]
     },
     "execution_count": 131,
     "metadata": {},
     "output_type": "execute_result"
    }
   ],
   "source": [
    "# Fit the pipeline to the features 'x' and target variable 'y'.\n",
    "pipeline.fit(x, y)"
   ]
  },
  {
   "cell_type": "code",
   "execution_count": null,
   "id": "a5da5d52",
   "metadata": {},
   "outputs": [],
   "source": []
  },
  {
   "cell_type": "code",
   "execution_count": null,
   "id": "0655b5de",
   "metadata": {},
   "outputs": [],
   "source": []
  },
  {
   "cell_type": "code",
   "execution_count": 133,
   "id": "035cb30a",
   "metadata": {},
   "outputs": [
    {
     "data": {
      "text/plain": [
       "['inputs.pkl']"
      ]
     },
     "execution_count": 133,
     "metadata": {},
     "output_type": "execute_result"
    }
   ],
   "source": [
    "# Save the column names of the features ('x') to a joblib file named 'inputs.pkl'.\n",
    "joblib.dump(x.columns, 'inputs.pkl')"
   ]
  },
  {
   "cell_type": "code",
   "execution_count": 134,
   "id": "722d9040",
   "metadata": {},
   "outputs": [
    {
     "data": {
      "text/plain": [
       "['model.pkl']"
      ]
     },
     "execution_count": 134,
     "metadata": {},
     "output_type": "execute_result"
    }
   ],
   "source": [
    "# Save the trained pipeline (including the XGBRegressor model) to a joblib file named 'model.pkl'.\n",
    "joblib.dump(pipeline, 'model.pkl')"
   ]
  },
  {
   "cell_type": "code",
   "execution_count": null,
   "id": "fb1bcff6",
   "metadata": {},
   "outputs": [],
   "source": []
  },
  {
   "cell_type": "code",
   "execution_count": 135,
   "id": "d4a182cb",
   "metadata": {},
   "outputs": [
    {
     "name": "stdout",
     "output_type": "stream",
     "text": [
      "Overwriting Flights.py\n"
     ]
    }
   ],
   "source": [
    "%%writefile Flights.py\n",
    "\n",
    "import streamlit as st\n",
    "import pandas as pd\n",
    "import numpy as np\n",
    "import plotly.express as px\n",
    "import seaborn as sns\n",
    "import matplotlib.pyplot as plt\n",
    "import sklearn\n",
    "from category_encoders import BinaryEncoder\n",
    "from xgboost import XGBRegressor\n",
    "import joblib\n",
    "\n",
    "# Save the column names of the features to a joblib file for later use.\n",
    "columns = joblib.load('inputs.pkl')\n",
    "\n",
    "# Load the trained pipeline model from a joblib file.\n",
    "model = joblib.load('model.pkl')\n",
    "\n",
    "# Function to make a flight price prediction based on user input.\n",
    "def prediction(Airline, Source, Destination, Duration, Total_Stops, Additional_Info, Month, Day):\n",
    "    df = pd.DataFrame(columns=columns)\n",
    "    \n",
    "    # Set the input values in the DataFrame for prediction.\n",
    "    df.at[0, 'Airline'] = Airline\n",
    "    df.at[0, 'Source'] = Source\n",
    "    df.at[0, 'Destination'] = Destination\n",
    "    df.at[0, 'Duration'] = Duration\n",
    "    df.at[0, 'Total_Stops'] = Total_Stops\n",
    "    df.at[0, 'Additional_Info'] = Additional_Info\n",
    "    df.at[0, 'Month'] = Month\n",
    "    df.at[0, 'Day'] = Day\n",
    "    \n",
    "    # Use the trained model to make the prediction.\n",
    "    prediction = model.predict(df)\n",
    "    return int(prediction[0])\n",
    "\n",
    "# Main function to create a Streamlit web app for flight price prediction.\n",
    "def main():\n",
    "    st.title('Indian Air Flight Price Prediction')\n",
    "    \n",
    "    # User input fields for various features.\n",
    "    Airline = st.selectbox('Airline', ['IndiGo', 'Air India', 'Jet Airways', 'SpiceJet',\n",
    "       'Multiple carriers', 'GoAir', 'Vistara', 'Air Asia'])\n",
    "    \n",
    "    Source = st.selectbox('Source', ['Banglore', 'Kolkata', 'Delhi', 'Chennai', 'Mumbai'])\n",
    "    \n",
    "    Destination = st.selectbox('Destination', ['New Delhi', 'Banglore', 'Cochin', 'Kolkata', 'Delhi', 'Hyderabad'])\n",
    "    \n",
    "    Duration = st.slider('Duration', min_value=70, max_value=3000, step=1, value=360)\n",
    "    \n",
    "    Total_Stops = st.slider('Total_Stops', min_value=0, max_value=5, step=1, value=0)\n",
    "    \n",
    "    Additional_Info = st.selectbox('Additional_Info', ['no info', 'in-flight meal not included',\n",
    "       'no check-in baggage included', 'business'])\n",
    "    \n",
    "    Month = st.selectbox('Month', ['March', 'April', 'May', 'June'])\n",
    "    \n",
    "    Day = st.selectbox('Day', ['Saturday', 'Sunday', 'Monday', 'Tuesday', 'Wednesday', 'Thursday', 'Friday'])\n",
    "    \n",
    "    # Button to trigger the prediction.\n",
    "    if st.button(\"Predict\"):\n",
    "        result = prediction(Airline, Source, Destination, Duration, Total_Stops, Additional_Info, Month, Day)\n",
    "        st.text(f\"The expected Price for this Flight is  : {int(result) + 1}\")\n",
    "\n",
    "# Run the Streamlit app.\n",
    "main()\n"
   ]
  },
  {
   "cell_type": "code",
   "execution_count": null,
   "id": "4c2ddd95",
   "metadata": {},
   "outputs": [],
   "source": []
  },
  {
   "cell_type": "code",
   "execution_count": null,
   "id": "3fe83c8e",
   "metadata": {},
   "outputs": [],
   "source": []
  }
 ],
 "metadata": {
  "kernelspec": {
   "display_name": "Python 3 (ipykernel)",
   "language": "python",
   "name": "python3"
  },
  "language_info": {
   "codemirror_mode": {
    "name": "ipython",
    "version": 3
   },
   "file_extension": ".py",
   "mimetype": "text/x-python",
   "name": "python",
   "nbconvert_exporter": "python",
   "pygments_lexer": "ipython3",
   "version": "3.10.8"
  }
 },
 "nbformat": 4,
 "nbformat_minor": 5
}
